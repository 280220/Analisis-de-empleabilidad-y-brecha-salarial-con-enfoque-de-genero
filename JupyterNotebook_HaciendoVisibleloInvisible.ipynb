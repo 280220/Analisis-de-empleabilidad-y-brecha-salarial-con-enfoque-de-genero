{
 "cells": [
  {
   "cell_type": "code",
   "execution_count": 1,
   "metadata": {},
   "outputs": [],
   "source": [
    "import pandas as pd\n",
    "import fbprophet\n",
    "import matplotlib.pyplot as plt\n",
    "import numpy as np\n",
    "import seaborn as sns\n",
    "import itertools\n",
    "import statsmodels.api as sm\n",
    "\n",
    "pd.set_option('display.max_columns', None)\n",
    "# usado para ver todas las columna \n",
    "pd.options.mode.chained_assignment = None  # default='warn'"
   ]
  },
  {
   "cell_type": "code",
   "execution_count": 2,
   "metadata": {},
   "outputs": [],
   "source": [
    "from fbprophet import Prophet\n",
    "from fbprophet.diagnostics import cross_validation\n",
    "from fbprophet.diagnostics import performance_metrics\n",
    "from fbprophet.plot import plot_plotly, plot_components_plotly\n",
    "from fbprophet.plot import plot_cross_validation_metric\n",
    "\n",
    "%matplotlib inline\n",
    "\n",
    "from sklearn.metrics import mean_squared_error, mean_absolute_error"
   ]
  },
  {
   "cell_type": "markdown",
   "metadata": {},
   "source": [
    "### Functions of general data cleaning"
   ]
  },
  {
   "cell_type": "code",
   "execution_count": 3,
   "metadata": {},
   "outputs": [],
   "source": [
    "# Función para poner el estado en mayúsculas y quitar la clabe de dos letras.\n",
    "def clean_state(state) :\n",
    "    state = state.replace('-',' ').title()\n",
    "    return state[:-3]"
   ]
  },
  {
   "cell_type": "code",
   "execution_count": 4,
   "metadata": {},
   "outputs": [],
   "source": [
    "def salary_range(wage):\n",
    "    if wage > 0 and wage <= 2000 :\n",
    "        return '< $2k'\n",
    "    elif wage >2000 and wage<=3000 :\n",
    "        return '2k-$3k'\n",
    "    elif wage >3000 and wage<=4000 :\n",
    "        return '3k-$4k'\n",
    "    elif wage >4000 and wage<=5000 :\n",
    "        return '4k-$5k'\n",
    "    elif wage >5000 and wage<=6000 :\n",
    "        return '5k-$6k'\n",
    "    elif wage >6000 and wage<=7000 :\n",
    "        return '6k-$7k'\n",
    "    elif wage >7000 and wage<=8000 :\n",
    "        return '7k-$8k'\n",
    "    elif wage >8000 and wage<=9000 :\n",
    "        return '8k-$9k'\n",
    "    elif wage >9000 and wage<=12000 :\n",
    "        return '9k-$12k'\n",
    "    elif wage >12000 :\n",
    "        return '$12k +'"
   ]
  },
  {
   "cell_type": "markdown",
   "metadata": {},
   "source": [
    "### Functions for FB prophet prediction model"
   ]
  },
  {
   "cell_type": "markdown",
   "metadata": {},
   "source": [
    "Facebook Prophet is a dynamic time series forecasting tool which is available in Python. We build, apply and visualize a model with focus on the future behaviour of the average wage gap between men and women, based on the linechart on the PowerBI dashboard."
   ]
  },
  {
   "cell_type": "code",
   "execution_count": 5,
   "metadata": {},
   "outputs": [],
   "source": [
    "#Function for prediction\n",
    "def calculate_forecast_errors(df, prediction_size):\n",
    "    \"\"\"Calculate MAPE and MAE of the forecast.\n",
    "    \n",
    "       Args:\n",
    "           df: joined dataset with 'y' and 'yhat' columns.\n",
    "           prediction_size: number of datapoints at the end to predict.\n",
    "    \"\"\"\n",
    "    \n",
    "    # Make a copy\n",
    "    df = df.copy()\n",
    "    df.dropna(inplace=True)\n",
    "    \n",
    "    df['e'] = df['y'] - df['yhat']\n",
    "    df['p'] = 100 * df['e'] / df['y']\n",
    "    \n",
    "    # Now cut out the part of the data which we made our prediction for.\n",
    "    predicted_part = df[-prediction_size:]\n",
    "    \n",
    "    # Define the function that averages absolute error values over the predicted part.\n",
    "    error_mean = lambda error_name: np.mean(np.abs(predicted_part[error_name]))\n",
    "    \n",
    "    # Now we can calculate MAPE and MAE and return the resulting dictionary of errors.\n",
    "    return {'MAPE': error_mean('p'), 'MAE': error_mean('e')}"
   ]
  },
  {
   "cell_type": "code",
   "execution_count": 6,
   "metadata": {},
   "outputs": [],
   "source": [
    "#Creating a function to automate the model process.\n",
    "\n",
    "def prophet_model(df,predictions) :\n",
    "    \"\"\"Calculate the model FBProhpet prediction and the MAPE and MAE of the forecast.\n",
    "    \n",
    "       Args:\n",
    "           df: data frame with date time 'ds' and data 'y'\n",
    "           predictions: numbers of data points to be predicted, (quarterly anual data)\n",
    "    \"\"\"\n",
    "    periods = [0, predictions]\n",
    "    model = Prophet(yearly_seasonality = True, weekly_seasonality = False)\n",
    "    model.fit(df)\n",
    "    for number in periods :\n",
    "        future = model.make_future_dataframe(periods= number, freq= '3MS')\n",
    "        forecast = model.predict(future)\n",
    "        #fig = plot_plotly(model, forecast)\n",
    "        #fig.show()\n",
    "        if number == 0 :\n",
    "            df_error = df[['ds','y']].copy()\n",
    "            df_error['yhat'] = forecast.yhat.values\n",
    "            error = calculate_forecast_errors(df_error, len(df))\n",
    "            print('Periods predicted: ', number, '\\n')\n",
    "            print(error)\n",
    "    return (model, forecast, error)"
   ]
  },
  {
   "cell_type": "code",
   "execution_count": 7,
   "metadata": {},
   "outputs": [],
   "source": [
    "def salary_gap(name,periods) :\n",
    "    \"\"\" With the prediccion of two data sets calculate the differences of salaries.\n",
    "    \n",
    "       Args:\n",
    "           list: list with the name of two data frames each one with date time 'ds' and data 'y'\n",
    "           periods: numbers of data points to be predicted, (quarterly anual data)\n",
    "    \"\"\"\n",
    "    model_female, forecast_female, error_female = prophet_model(name[0],periods)\n",
    "    model_male, forecast_male, error_male = prophet_model(name[1],periods)\n",
    "    dictionary = {'Date': forecast_female.ds, 'Salary Male': forecast_male.yhat, 'Salary Female': forecast_female.yhat, 'Wage Gap': (forecast_female.yhat-forecast_male.yhat)/forecast_male.yhat*100}\n",
    "    gap = pd.DataFrame(dictionary)\n",
    "    return (model_female, forecast_female, model_male, forecast_male, gap, error_female, error_male)\n",
    "    "
   ]
  },
  {
   "cell_type": "markdown",
   "metadata": {},
   "source": [
    "## General Data Cleaning for map visualization for Power Bi Dashboard"
   ]
  },
  {
   "cell_type": "code",
   "execution_count": 8,
   "metadata": {},
   "outputs": [],
   "source": [
    "# Cargando los datos\n",
    "enoe = pd.read_csv('./DataBasesUsed/ENOE2020Q4Q3.csv',  encoding = 'utf8')"
   ]
  },
  {
   "cell_type": "code",
   "execution_count": 9,
   "metadata": {},
   "outputs": [],
   "source": [
    "#\n",
    "#Limipiando la columna de State. Solo ejecutar esta celda una vez.\n",
    "enoe.State = enoe.State.apply(clean_state)"
   ]
  },
  {
   "cell_type": "code",
   "execution_count": 10,
   "metadata": {},
   "outputs": [],
   "source": [
    "# Asignado el intervalo de salario\n",
    "enoe['Salary Group'] = enoe['Monthly Wage'].apply(salary_range)"
   ]
  },
  {
   "cell_type": "code",
   "execution_count": 11,
   "metadata": {},
   "outputs": [
    {
     "output_type": "execute_result",
     "data": {
      "text/plain": [
       "   Quarter ID  Quarter  \\\n",
       "0       20101  2010-Q1   \n",
       "1       20101  2010-Q1   \n",
       "2       20101  2010-Q1   \n",
       "3       20101  2010-Q1   \n",
       "4       20101  2010-Q1   \n",
       "\n",
       "   Classification of Formal and Informal Jobs of the First Activity ID  \\\n",
       "0                                                  1                     \n",
       "1                                                  1                     \n",
       "2                                                  1                     \n",
       "3                                                  1                     \n",
       "4                                                  1                     \n",
       "\n",
       "  Classification of Formal and Informal Jobs of the First Activity  Group ID  \\\n",
       "0                                    Empleo Informal                      14   \n",
       "1                                    Empleo Informal                      14   \n",
       "2                                    Empleo Informal                      14   \n",
       "3                                    Empleo Informal                      14   \n",
       "4                                    Empleo Informal                      14   \n",
       "\n",
       "                                               Group  Job Situation ID  \\\n",
       "0  Directores y Gerentes de Ventas, Restaurantes,...                 1   \n",
       "1  Directores y Gerentes de Ventas, Restaurantes,...                 1   \n",
       "2  Directores y Gerentes de Ventas, Restaurantes,...                 1   \n",
       "3  Directores y Gerentes de Ventas, Restaurantes,...                 1   \n",
       "4  Directores y Gerentes de Ventas, Restaurantes,...                 1   \n",
       "\n",
       "                Job Situation  Schooling Years Range ID  \\\n",
       "0  Posee un Trabajo o Negocio                         1   \n",
       "1  Posee un Trabajo o Negocio                         1   \n",
       "2  Posee un Trabajo o Negocio                         2   \n",
       "3  Posee un Trabajo o Negocio                         2   \n",
       "4  Posee un Trabajo o Negocio                         2   \n",
       "\n",
       "       Schooling Years Range  Sex ID     Sex  State ID  \\\n",
       "0  0 a 3 Años de Escolaridad       1  Hombre        10   \n",
       "1  0 a 3 Años de Escolaridad       1  Hombre        29   \n",
       "2  4 a 6 Años de Escolaridad       1  Hombre         6   \n",
       "3  4 a 6 Años de Escolaridad       1  Hombre         7   \n",
       "4  4 a 6 Años de Escolaridad       1  Hombre        30   \n",
       "\n",
       "                             State  Number of Records  Workforce  \\\n",
       "0                          Durango                  1         62   \n",
       "1                         Tlaxcala                  1         56   \n",
       "2                           Colima                  1         92   \n",
       "3                          Chiapas                  1         72   \n",
       "4  Veracruz De Ignacio De La Llave                  1       1214   \n",
       "\n",
       "   Monthly Wage Salary Group  \n",
       "0           0.0         None  \n",
       "1        2580.0       2k-$3k  \n",
       "2         540.0        < $2k  \n",
       "3       15480.0       $12k +  \n",
       "4       12000.0      9k-$12k  "
      ],
      "text/html": "<div>\n<style scoped>\n    .dataframe tbody tr th:only-of-type {\n        vertical-align: middle;\n    }\n\n    .dataframe tbody tr th {\n        vertical-align: top;\n    }\n\n    .dataframe thead th {\n        text-align: right;\n    }\n</style>\n<table border=\"1\" class=\"dataframe\">\n  <thead>\n    <tr style=\"text-align: right;\">\n      <th></th>\n      <th>Quarter ID</th>\n      <th>Quarter</th>\n      <th>Classification of Formal and Informal Jobs of the First Activity ID</th>\n      <th>Classification of Formal and Informal Jobs of the First Activity</th>\n      <th>Group ID</th>\n      <th>Group</th>\n      <th>Job Situation ID</th>\n      <th>Job Situation</th>\n      <th>Schooling Years Range ID</th>\n      <th>Schooling Years Range</th>\n      <th>Sex ID</th>\n      <th>Sex</th>\n      <th>State ID</th>\n      <th>State</th>\n      <th>Number of Records</th>\n      <th>Workforce</th>\n      <th>Monthly Wage</th>\n      <th>Salary Group</th>\n    </tr>\n  </thead>\n  <tbody>\n    <tr>\n      <th>0</th>\n      <td>20101</td>\n      <td>2010-Q1</td>\n      <td>1</td>\n      <td>Empleo Informal</td>\n      <td>14</td>\n      <td>Directores y Gerentes de Ventas, Restaurantes,...</td>\n      <td>1</td>\n      <td>Posee un Trabajo o Negocio</td>\n      <td>1</td>\n      <td>0 a 3 Años de Escolaridad</td>\n      <td>1</td>\n      <td>Hombre</td>\n      <td>10</td>\n      <td>Durango</td>\n      <td>1</td>\n      <td>62</td>\n      <td>0.0</td>\n      <td>None</td>\n    </tr>\n    <tr>\n      <th>1</th>\n      <td>20101</td>\n      <td>2010-Q1</td>\n      <td>1</td>\n      <td>Empleo Informal</td>\n      <td>14</td>\n      <td>Directores y Gerentes de Ventas, Restaurantes,...</td>\n      <td>1</td>\n      <td>Posee un Trabajo o Negocio</td>\n      <td>1</td>\n      <td>0 a 3 Años de Escolaridad</td>\n      <td>1</td>\n      <td>Hombre</td>\n      <td>29</td>\n      <td>Tlaxcala</td>\n      <td>1</td>\n      <td>56</td>\n      <td>2580.0</td>\n      <td>2k-$3k</td>\n    </tr>\n    <tr>\n      <th>2</th>\n      <td>20101</td>\n      <td>2010-Q1</td>\n      <td>1</td>\n      <td>Empleo Informal</td>\n      <td>14</td>\n      <td>Directores y Gerentes de Ventas, Restaurantes,...</td>\n      <td>1</td>\n      <td>Posee un Trabajo o Negocio</td>\n      <td>2</td>\n      <td>4 a 6 Años de Escolaridad</td>\n      <td>1</td>\n      <td>Hombre</td>\n      <td>6</td>\n      <td>Colima</td>\n      <td>1</td>\n      <td>92</td>\n      <td>540.0</td>\n      <td>&lt; $2k</td>\n    </tr>\n    <tr>\n      <th>3</th>\n      <td>20101</td>\n      <td>2010-Q1</td>\n      <td>1</td>\n      <td>Empleo Informal</td>\n      <td>14</td>\n      <td>Directores y Gerentes de Ventas, Restaurantes,...</td>\n      <td>1</td>\n      <td>Posee un Trabajo o Negocio</td>\n      <td>2</td>\n      <td>4 a 6 Años de Escolaridad</td>\n      <td>1</td>\n      <td>Hombre</td>\n      <td>7</td>\n      <td>Chiapas</td>\n      <td>1</td>\n      <td>72</td>\n      <td>15480.0</td>\n      <td>$12k +</td>\n    </tr>\n    <tr>\n      <th>4</th>\n      <td>20101</td>\n      <td>2010-Q1</td>\n      <td>1</td>\n      <td>Empleo Informal</td>\n      <td>14</td>\n      <td>Directores y Gerentes de Ventas, Restaurantes,...</td>\n      <td>1</td>\n      <td>Posee un Trabajo o Negocio</td>\n      <td>2</td>\n      <td>4 a 6 Años de Escolaridad</td>\n      <td>1</td>\n      <td>Hombre</td>\n      <td>30</td>\n      <td>Veracruz De Ignacio De La Llave</td>\n      <td>1</td>\n      <td>1214</td>\n      <td>12000.0</td>\n      <td>9k-$12k</td>\n    </tr>\n  </tbody>\n</table>\n</div>"
     },
     "metadata": {},
     "execution_count": 11
    }
   ],
   "source": [
    "enoe.head()"
   ]
  },
  {
   "cell_type": "code",
   "execution_count": 12,
   "metadata": {},
   "outputs": [
    {
     "output_type": "execute_result",
     "data": {
      "text/plain": [
       "['Quarter ID',\n",
       " 'Quarter',\n",
       " 'Classification of Formal and Informal Jobs of the First Activity ID',\n",
       " 'Classification of Formal and Informal Jobs of the First Activity',\n",
       " 'Group ID',\n",
       " 'Group',\n",
       " 'Job Situation ID',\n",
       " 'Job Situation',\n",
       " 'Schooling Years Range ID',\n",
       " 'Schooling Years Range',\n",
       " 'Sex ID',\n",
       " 'Sex',\n",
       " 'State ID',\n",
       " 'State',\n",
       " 'Workforce',\n",
       " 'Monthly Wage',\n",
       " 'Salary Group']"
      ]
     },
     "metadata": {},
     "execution_count": 12
    }
   ],
   "source": [
    "name_columns = enoe.columns.to_list()\n",
    "name_columns.remove('Number of Records')\n",
    "name_columns"
   ]
  },
  {
   "cell_type": "code",
   "execution_count": 13,
   "metadata": {},
   "outputs": [
    {
     "output_type": "execute_result",
     "data": {
      "text/plain": [
       "1396576"
      ]
     },
     "metadata": {},
     "execution_count": 13
    }
   ],
   "source": [
    "enoe[enoe['Quarter']=='2020-Q4']['Workforce'].sum()"
   ]
  },
  {
   "cell_type": "code",
   "execution_count": 14,
   "metadata": {},
   "outputs": [],
   "source": [
    "# Delete number register column\n",
    "enoe = enoe[name_columns]"
   ]
  },
  {
   "cell_type": "code",
   "execution_count": 15,
   "metadata": {},
   "outputs": [],
   "source": [
    "# File csv to map wage gap in power bi\n",
    "enoe.to_csv('./DataBaseBI/enoe_map_bi.csv', index = False)"
   ]
  },
  {
   "cell_type": "markdown",
   "metadata": {},
   "source": [
    "## General Data Cleaning for wage gap with segregated instruction level visualization in Power Bi Dashboard"
   ]
  },
  {
   "cell_type": "code",
   "execution_count": 16,
   "metadata": {},
   "outputs": [],
   "source": [
    "enoe_instruction = pd.read_csv('./DataBasesUsed/Instruction_Level_ENOE.csv', encoding = 'utf8')"
   ]
  },
  {
   "cell_type": "code",
   "execution_count": 17,
   "metadata": {},
   "outputs": [
    {
     "output_type": "execute_result",
     "data": {
      "text/plain": [
       "(45983, 12)"
      ]
     },
     "metadata": {},
     "execution_count": 17
    }
   ],
   "source": [
    "enoe_instruction.shape"
   ]
  },
  {
   "cell_type": "code",
   "execution_count": 18,
   "metadata": {},
   "outputs": [
    {
     "output_type": "execute_result",
     "data": {
      "text/plain": [
       "       Sex ID    Sex  Quarter ID  Quarter  Instruction Level ID  \\\n",
       "45883       2  Mujer       20204  2020-Q4                     8   \n",
       "45884       2  Mujer       20204  2020-Q4                     8   \n",
       "45885       2  Mujer       20204  2020-Q4                     8   \n",
       "45886       2  Mujer       20204  2020-Q4                     8   \n",
       "45887       2  Mujer       20204  2020-Q4                     8   \n",
       "...       ...    ...         ...      ...                   ...   \n",
       "45978       2  Mujer       20204  2020-Q4                    99   \n",
       "45979       2  Mujer       20204  2020-Q4                    99   \n",
       "45980       2  Mujer       20204  2020-Q4                    99   \n",
       "45981       2  Mujer       20204  2020-Q4                    99   \n",
       "45982       2  Mujer       20204  2020-Q4                    99   \n",
       "\n",
       "      Instruction Level  \\\n",
       "45883          Maestría   \n",
       "45884          Maestría   \n",
       "45885          Maestría   \n",
       "45886          Maestría   \n",
       "45887          Maestría   \n",
       "...                 ...   \n",
       "45978     No Sabe Nivel   \n",
       "45979     No Sabe Nivel   \n",
       "45980     No Sabe Nivel   \n",
       "45981     No Sabe Nivel   \n",
       "45982     No Sabe Nivel   \n",
       "\n",
       "       Classification of Formal and Informal Jobs of the First Activity ID  \\\n",
       "45883                                                  1                     \n",
       "45884                                                  1                     \n",
       "45885                                                  1                     \n",
       "45886                                                  1                     \n",
       "45887                                                  1                     \n",
       "...                                                  ...                     \n",
       "45978                                                  2                     \n",
       "45979                                                  2                     \n",
       "45980                                                  2                     \n",
       "45981                                                  2                     \n",
       "45982                                                  2                     \n",
       "\n",
       "      Classification of Formal and Informal Jobs of the First Activity  \\\n",
       "45883                                    Empleo Informal                 \n",
       "45884                                    Empleo Informal                 \n",
       "45885                                    Empleo Informal                 \n",
       "45886                                    Empleo Informal                 \n",
       "45887                                    Empleo Informal                 \n",
       "...                                                  ...                 \n",
       "45978                                      Empleo Formal                 \n",
       "45979                                      Empleo Formal                 \n",
       "45980                                      Empleo Formal                 \n",
       "45981                                      Empleo Formal                 \n",
       "45982                                      Empleo Formal                 \n",
       "\n",
       "       Group ID                                              Group  Workforce  \\\n",
       "45883        11  Funcionarios y Altas Autoridades de los Sector...        770   \n",
       "45884        12  Directores y Gerentes en Servicios Financieros...        875   \n",
       "45885        13  Directores y Gerentes en Producción, Tecnologí...         42   \n",
       "45886        14  Directores y Gerentes de Ventas, Restaurantes,...       1136   \n",
       "45887        15  Coordinadores y Jefes de Área en Servicios Fin...       2049   \n",
       "...         ...                                                ...        ...   \n",
       "45978        53  Trabajadores en Servicios de Protección y Vigi...         58   \n",
       "45979        81  Operadores de Instalaciones y Maquinaria Indus...        359   \n",
       "45980        82  Ensambladores y Montadores de Herramientas, Ma...        186   \n",
       "45981        92  Trabajadores de Apoyo en la Minería, Construcc...        300   \n",
       "45982        96  Trabajadores Domésticos, de Limpieza, Planchad...        544   \n",
       "\n",
       "       Monthly Wage  \n",
       "45883   6087.012987  \n",
       "45884   4651.428571  \n",
       "45885      0.000000  \n",
       "45886      0.000000  \n",
       "45887   9291.361640  \n",
       "...             ...  \n",
       "45978      0.000000  \n",
       "45979      0.000000  \n",
       "45980      0.000000  \n",
       "45981   7740.000000  \n",
       "45982   2775.735294  \n",
       "\n",
       "[100 rows x 12 columns]"
      ],
      "text/html": "<div>\n<style scoped>\n    .dataframe tbody tr th:only-of-type {\n        vertical-align: middle;\n    }\n\n    .dataframe tbody tr th {\n        vertical-align: top;\n    }\n\n    .dataframe thead th {\n        text-align: right;\n    }\n</style>\n<table border=\"1\" class=\"dataframe\">\n  <thead>\n    <tr style=\"text-align: right;\">\n      <th></th>\n      <th>Sex ID</th>\n      <th>Sex</th>\n      <th>Quarter ID</th>\n      <th>Quarter</th>\n      <th>Instruction Level ID</th>\n      <th>Instruction Level</th>\n      <th>Classification of Formal and Informal Jobs of the First Activity ID</th>\n      <th>Classification of Formal and Informal Jobs of the First Activity</th>\n      <th>Group ID</th>\n      <th>Group</th>\n      <th>Workforce</th>\n      <th>Monthly Wage</th>\n    </tr>\n  </thead>\n  <tbody>\n    <tr>\n      <th>45883</th>\n      <td>2</td>\n      <td>Mujer</td>\n      <td>20204</td>\n      <td>2020-Q4</td>\n      <td>8</td>\n      <td>Maestría</td>\n      <td>1</td>\n      <td>Empleo Informal</td>\n      <td>11</td>\n      <td>Funcionarios y Altas Autoridades de los Sector...</td>\n      <td>770</td>\n      <td>6087.012987</td>\n    </tr>\n    <tr>\n      <th>45884</th>\n      <td>2</td>\n      <td>Mujer</td>\n      <td>20204</td>\n      <td>2020-Q4</td>\n      <td>8</td>\n      <td>Maestría</td>\n      <td>1</td>\n      <td>Empleo Informal</td>\n      <td>12</td>\n      <td>Directores y Gerentes en Servicios Financieros...</td>\n      <td>875</td>\n      <td>4651.428571</td>\n    </tr>\n    <tr>\n      <th>45885</th>\n      <td>2</td>\n      <td>Mujer</td>\n      <td>20204</td>\n      <td>2020-Q4</td>\n      <td>8</td>\n      <td>Maestría</td>\n      <td>1</td>\n      <td>Empleo Informal</td>\n      <td>13</td>\n      <td>Directores y Gerentes en Producción, Tecnologí...</td>\n      <td>42</td>\n      <td>0.000000</td>\n    </tr>\n    <tr>\n      <th>45886</th>\n      <td>2</td>\n      <td>Mujer</td>\n      <td>20204</td>\n      <td>2020-Q4</td>\n      <td>8</td>\n      <td>Maestría</td>\n      <td>1</td>\n      <td>Empleo Informal</td>\n      <td>14</td>\n      <td>Directores y Gerentes de Ventas, Restaurantes,...</td>\n      <td>1136</td>\n      <td>0.000000</td>\n    </tr>\n    <tr>\n      <th>45887</th>\n      <td>2</td>\n      <td>Mujer</td>\n      <td>20204</td>\n      <td>2020-Q4</td>\n      <td>8</td>\n      <td>Maestría</td>\n      <td>1</td>\n      <td>Empleo Informal</td>\n      <td>15</td>\n      <td>Coordinadores y Jefes de Área en Servicios Fin...</td>\n      <td>2049</td>\n      <td>9291.361640</td>\n    </tr>\n    <tr>\n      <th>...</th>\n      <td>...</td>\n      <td>...</td>\n      <td>...</td>\n      <td>...</td>\n      <td>...</td>\n      <td>...</td>\n      <td>...</td>\n      <td>...</td>\n      <td>...</td>\n      <td>...</td>\n      <td>...</td>\n      <td>...</td>\n    </tr>\n    <tr>\n      <th>45978</th>\n      <td>2</td>\n      <td>Mujer</td>\n      <td>20204</td>\n      <td>2020-Q4</td>\n      <td>99</td>\n      <td>No Sabe Nivel</td>\n      <td>2</td>\n      <td>Empleo Formal</td>\n      <td>53</td>\n      <td>Trabajadores en Servicios de Protección y Vigi...</td>\n      <td>58</td>\n      <td>0.000000</td>\n    </tr>\n    <tr>\n      <th>45979</th>\n      <td>2</td>\n      <td>Mujer</td>\n      <td>20204</td>\n      <td>2020-Q4</td>\n      <td>99</td>\n      <td>No Sabe Nivel</td>\n      <td>2</td>\n      <td>Empleo Formal</td>\n      <td>81</td>\n      <td>Operadores de Instalaciones y Maquinaria Indus...</td>\n      <td>359</td>\n      <td>0.000000</td>\n    </tr>\n    <tr>\n      <th>45980</th>\n      <td>2</td>\n      <td>Mujer</td>\n      <td>20204</td>\n      <td>2020-Q4</td>\n      <td>99</td>\n      <td>No Sabe Nivel</td>\n      <td>2</td>\n      <td>Empleo Formal</td>\n      <td>82</td>\n      <td>Ensambladores y Montadores de Herramientas, Ma...</td>\n      <td>186</td>\n      <td>0.000000</td>\n    </tr>\n    <tr>\n      <th>45981</th>\n      <td>2</td>\n      <td>Mujer</td>\n      <td>20204</td>\n      <td>2020-Q4</td>\n      <td>99</td>\n      <td>No Sabe Nivel</td>\n      <td>2</td>\n      <td>Empleo Formal</td>\n      <td>92</td>\n      <td>Trabajadores de Apoyo en la Minería, Construcc...</td>\n      <td>300</td>\n      <td>7740.000000</td>\n    </tr>\n    <tr>\n      <th>45982</th>\n      <td>2</td>\n      <td>Mujer</td>\n      <td>20204</td>\n      <td>2020-Q4</td>\n      <td>99</td>\n      <td>No Sabe Nivel</td>\n      <td>2</td>\n      <td>Empleo Formal</td>\n      <td>96</td>\n      <td>Trabajadores Domésticos, de Limpieza, Planchad...</td>\n      <td>544</td>\n      <td>2775.735294</td>\n    </tr>\n  </tbody>\n</table>\n<p>100 rows × 12 columns</p>\n</div>"
     },
     "metadata": {},
     "execution_count": 18
    }
   ],
   "source": [
    "enoe_instruction.tail(100)"
   ]
  },
  {
   "cell_type": "code",
   "execution_count": 19,
   "metadata": {},
   "outputs": [],
   "source": [
    "#Generating the salary group \n",
    "#Generando el Grupo de salario\n",
    "enoe_instruction['Salary Group'] = enoe_instruction['Monthly Wage'].apply(salary_range)"
   ]
  },
  {
   "cell_type": "code",
   "execution_count": 20,
   "metadata": {},
   "outputs": [],
   "source": [
    "enoe_instruction.to_csv('./DataBaseBI/enoe_salary_instructionlevel.csv',index= False)"
   ]
  },
  {
   "cell_type": "code",
   "execution_count": 21,
   "metadata": {},
   "outputs": [
    {
     "output_type": "execute_result",
     "data": {
      "text/plain": [
       "3587"
      ]
     },
     "metadata": {},
     "execution_count": 21
    }
   ],
   "source": [
    "enoe_instruction['Salary Group'].isnull().sum()"
   ]
  },
  {
   "cell_type": "markdown",
   "metadata": {},
   "source": [
    "## Data preparation for FB prophet model"
   ]
  },
  {
   "cell_type": "code",
   "execution_count": 22,
   "metadata": {},
   "outputs": [
    {
     "output_type": "execute_result",
     "data": {
      "text/plain": [
       "(3587, 45983)"
      ]
     },
     "metadata": {},
     "execution_count": 22
    }
   ],
   "source": [
    "#  Number of rows with Monthly wage reported as 0.\n",
    "len(enoe_instruction[enoe_instruction['Monthly Wage'] == 0]),len(enoe_instruction)"
   ]
  },
  {
   "cell_type": "code",
   "execution_count": 23,
   "metadata": {},
   "outputs": [
    {
     "output_type": "stream",
     "name": "stdout",
     "text": [
      "El porcentaje de los datos que tiene 0 en el salario  es  7.800708957658264 %\n"
     ]
    }
   ],
   "source": [
    "# Percentage of workforce with Monthly wage reported as 0.\n",
    "print('El porcentaje de los datos que tiene 0 en el salario  es ',len(enoe_instruction[enoe_instruction['Monthly Wage'] == 0])/len(enoe_instruction) * 100, '%' )"
   ]
  },
  {
   "cell_type": "code",
   "execution_count": 24,
   "metadata": {},
   "outputs": [
    {
     "output_type": "execute_result",
     "data": {
      "text/plain": [
       "0.10467216752340223"
      ]
     },
     "metadata": {},
     "execution_count": 24
    }
   ],
   "source": [
    "#The zero Monthly Wage represented 0.10% of the workforce\n",
    "enoe_instruction[enoe_instruction['Monthly Wage'] == 0]['Workforce'].sum()/enoe_instruction['Workforce'].sum()*100"
   ]
  },
  {
   "cell_type": "code",
   "execution_count": 25,
   "metadata": {},
   "outputs": [],
   "source": [
    "# Drop rows with zero Monthly wage, because we will use an weighted average\n",
    "enoe_salary = enoe_instruction.drop(enoe_instruction.loc[enoe_instruction['Monthly Wage'] == 0].index)"
   ]
  },
  {
   "cell_type": "code",
   "execution_count": 26,
   "metadata": {},
   "outputs": [
    {
     "output_type": "execute_result",
     "data": {
      "text/plain": [
       "   Sex ID     Sex  Quarter ID  Quarter  Instruction Level ID  \\\n",
       "0       1  Hombre       20101  2010-Q1                     0   \n",
       "2       1  Hombre       20101  2010-Q1                     0   \n",
       "3       1  Hombre       20101  2010-Q1                     0   \n",
       "4       1  Hombre       20101  2010-Q1                     0   \n",
       "5       1  Hombre       20101  2010-Q1                     0   \n",
       "\n",
       "  Instruction Level  \\\n",
       "0           Ninguno   \n",
       "2           Ninguno   \n",
       "3           Ninguno   \n",
       "4           Ninguno   \n",
       "5           Ninguno   \n",
       "\n",
       "   Classification of Formal and Informal Jobs of the First Activity ID  \\\n",
       "0                                                  1                     \n",
       "2                                                  1                     \n",
       "3                                                  1                     \n",
       "4                                                  1                     \n",
       "5                                                  1                     \n",
       "\n",
       "  Classification of Formal and Informal Jobs of the First Activity  Group ID  \\\n",
       "0                                    Empleo Informal                      14   \n",
       "2                                    Empleo Informal                      41   \n",
       "3                                    Empleo Informal                      52   \n",
       "4                                    Empleo Informal                      54   \n",
       "5                                    Empleo Informal                      62   \n",
       "\n",
       "                                               Group  Workforce  Monthly Wage  \\\n",
       "0  Directores y Gerentes de Ventas, Restaurantes,...       1092   2976.362637   \n",
       "2                   Comerciantes en Establecimientos        562   2896.708185   \n",
       "3    Trabajadores en Cuidados Personales y del Hogar      32421   1949.381296   \n",
       "4                Trabajadores de las Fuerzas Armadas       2338   1235.658683   \n",
       "5  Trabajadores en Actividades Pesqueras, Foresta...        332   1032.000000   \n",
       "\n",
       "  Salary Group  \n",
       "0       2k-$3k  \n",
       "2       2k-$3k  \n",
       "3        < $2k  \n",
       "4        < $2k  \n",
       "5        < $2k  "
      ],
      "text/html": "<div>\n<style scoped>\n    .dataframe tbody tr th:only-of-type {\n        vertical-align: middle;\n    }\n\n    .dataframe tbody tr th {\n        vertical-align: top;\n    }\n\n    .dataframe thead th {\n        text-align: right;\n    }\n</style>\n<table border=\"1\" class=\"dataframe\">\n  <thead>\n    <tr style=\"text-align: right;\">\n      <th></th>\n      <th>Sex ID</th>\n      <th>Sex</th>\n      <th>Quarter ID</th>\n      <th>Quarter</th>\n      <th>Instruction Level ID</th>\n      <th>Instruction Level</th>\n      <th>Classification of Formal and Informal Jobs of the First Activity ID</th>\n      <th>Classification of Formal and Informal Jobs of the First Activity</th>\n      <th>Group ID</th>\n      <th>Group</th>\n      <th>Workforce</th>\n      <th>Monthly Wage</th>\n      <th>Salary Group</th>\n    </tr>\n  </thead>\n  <tbody>\n    <tr>\n      <th>0</th>\n      <td>1</td>\n      <td>Hombre</td>\n      <td>20101</td>\n      <td>2010-Q1</td>\n      <td>0</td>\n      <td>Ninguno</td>\n      <td>1</td>\n      <td>Empleo Informal</td>\n      <td>14</td>\n      <td>Directores y Gerentes de Ventas, Restaurantes,...</td>\n      <td>1092</td>\n      <td>2976.362637</td>\n      <td>2k-$3k</td>\n    </tr>\n    <tr>\n      <th>2</th>\n      <td>1</td>\n      <td>Hombre</td>\n      <td>20101</td>\n      <td>2010-Q1</td>\n      <td>0</td>\n      <td>Ninguno</td>\n      <td>1</td>\n      <td>Empleo Informal</td>\n      <td>41</td>\n      <td>Comerciantes en Establecimientos</td>\n      <td>562</td>\n      <td>2896.708185</td>\n      <td>2k-$3k</td>\n    </tr>\n    <tr>\n      <th>3</th>\n      <td>1</td>\n      <td>Hombre</td>\n      <td>20101</td>\n      <td>2010-Q1</td>\n      <td>0</td>\n      <td>Ninguno</td>\n      <td>1</td>\n      <td>Empleo Informal</td>\n      <td>52</td>\n      <td>Trabajadores en Cuidados Personales y del Hogar</td>\n      <td>32421</td>\n      <td>1949.381296</td>\n      <td>&lt; $2k</td>\n    </tr>\n    <tr>\n      <th>4</th>\n      <td>1</td>\n      <td>Hombre</td>\n      <td>20101</td>\n      <td>2010-Q1</td>\n      <td>0</td>\n      <td>Ninguno</td>\n      <td>1</td>\n      <td>Empleo Informal</td>\n      <td>54</td>\n      <td>Trabajadores de las Fuerzas Armadas</td>\n      <td>2338</td>\n      <td>1235.658683</td>\n      <td>&lt; $2k</td>\n    </tr>\n    <tr>\n      <th>5</th>\n      <td>1</td>\n      <td>Hombre</td>\n      <td>20101</td>\n      <td>2010-Q1</td>\n      <td>0</td>\n      <td>Ninguno</td>\n      <td>1</td>\n      <td>Empleo Informal</td>\n      <td>62</td>\n      <td>Trabajadores en Actividades Pesqueras, Foresta...</td>\n      <td>332</td>\n      <td>1032.000000</td>\n      <td>&lt; $2k</td>\n    </tr>\n  </tbody>\n</table>\n</div>"
     },
     "metadata": {},
     "execution_count": 26
    }
   ],
   "source": [
    "enoe_salary.head()"
   ]
  },
  {
   "cell_type": "code",
   "execution_count": 27,
   "metadata": {},
   "outputs": [
    {
     "output_type": "execute_result",
     "data": {
      "text/plain": [
       "(42396, 13)"
      ]
     },
     "metadata": {},
     "execution_count": 27
    }
   ],
   "source": [
    "enoe_salary.shape"
   ]
  },
  {
   "cell_type": "code",
   "execution_count": 28,
   "metadata": {},
   "outputs": [],
   "source": [
    "#Function defines to get the weighted average using the workforce and monthly wage\n",
    "weighted_average = lambda x: np.average(x, weights = enoe_salary.loc[x.index , 'Workforce'])"
   ]
  },
  {
   "cell_type": "code",
   "execution_count": 29,
   "metadata": {},
   "outputs": [],
   "source": [
    "#Create a gender dataframes with average salary by quarter\n",
    "salary_female = enoe_salary[enoe_salary['Sex'] == 'Mujer'].groupby('Quarter')['Monthly Wage'].agg(weighted_average)\n",
    "salary_male = enoe_salary[enoe_salary['Sex'] == 'Hombre'].groupby('Quarter')['Monthly Wage'].agg(weighted_average)\n",
    "salary_female = salary_female.to_frame().reset_index()\n",
    "salary_male = salary_male.to_frame().reset_index()\n",
    "salary_female.columns = ['Quarter','Monthly Wage']\n",
    "salary_male.columns = ['Quarter','Monthly Wage']"
   ]
  },
  {
   "cell_type": "code",
   "execution_count": 30,
   "metadata": {},
   "outputs": [
    {
     "output_type": "execute_result",
     "data": {
      "text/plain": [
       "    Quarter  Monthly Wage\n",
       "0   2010-Q1   4497.099017\n",
       "1   2010-Q2   4504.512960\n",
       "2   2010-Q3   4318.655958\n",
       "3   2010-Q4   4169.401030\n",
       "4   2011-Q1   4277.819376\n",
       "5   2011-Q2   4120.119249\n",
       "6   2011-Q3   4279.173757\n",
       "7   2011-Q4   4024.623105\n",
       "8   2012-Q1   4300.954612\n",
       "9   2012-Q2   4397.125023\n",
       "10  2012-Q3   3964.329202\n",
       "11  2012-Q4   3982.154251\n",
       "12  2013-Q1   4151.144543\n",
       "13  2013-Q2   4003.908859\n",
       "14  2013-Q3   3927.815451\n",
       "15  2013-Q4   3977.879084\n",
       "16  2014-Q1   4054.392754\n",
       "17  2014-Q2   3942.065317\n",
       "18  2014-Q3   3926.678090\n",
       "19  2014-Q4   3914.212198\n",
       "20  2015-Q1   4054.575552\n",
       "21  2015-Q2   4050.648081\n",
       "22  2015-Q3   4101.008577\n",
       "23  2015-Q4   4091.410441\n",
       "24  2016-Q1   4224.336507\n",
       "25  2016-Q2   4217.045496\n",
       "26  2016-Q3   4229.198978\n",
       "27  2016-Q4   4240.543391\n",
       "28  2017-Q1   4314.884094\n",
       "29  2017-Q2   4312.328490\n",
       "30  2017-Q3   4187.703919\n",
       "31  2017-Q4   4218.828129\n",
       "32  2018-Q1   4409.566965\n",
       "33  2018-Q2   4402.067760\n",
       "34  2018-Q3   4379.768739\n",
       "35  2018-Q4   4394.688543\n",
       "36  2019-Q1   4665.104819\n",
       "37  2019-Q2   4688.870562\n",
       "38  2019-Q3   4691.553660\n",
       "39  2019-Q4   4860.776526\n",
       "40  2020-Q1   5221.852436\n",
       "41  2020-Q3   4794.385110\n",
       "42  2020-Q4   5022.790319"
      ],
      "text/html": "<div>\n<style scoped>\n    .dataframe tbody tr th:only-of-type {\n        vertical-align: middle;\n    }\n\n    .dataframe tbody tr th {\n        vertical-align: top;\n    }\n\n    .dataframe thead th {\n        text-align: right;\n    }\n</style>\n<table border=\"1\" class=\"dataframe\">\n  <thead>\n    <tr style=\"text-align: right;\">\n      <th></th>\n      <th>Quarter</th>\n      <th>Monthly Wage</th>\n    </tr>\n  </thead>\n  <tbody>\n    <tr>\n      <th>0</th>\n      <td>2010-Q1</td>\n      <td>4497.099017</td>\n    </tr>\n    <tr>\n      <th>1</th>\n      <td>2010-Q2</td>\n      <td>4504.512960</td>\n    </tr>\n    <tr>\n      <th>2</th>\n      <td>2010-Q3</td>\n      <td>4318.655958</td>\n    </tr>\n    <tr>\n      <th>3</th>\n      <td>2010-Q4</td>\n      <td>4169.401030</td>\n    </tr>\n    <tr>\n      <th>4</th>\n      <td>2011-Q1</td>\n      <td>4277.819376</td>\n    </tr>\n    <tr>\n      <th>5</th>\n      <td>2011-Q2</td>\n      <td>4120.119249</td>\n    </tr>\n    <tr>\n      <th>6</th>\n      <td>2011-Q3</td>\n      <td>4279.173757</td>\n    </tr>\n    <tr>\n      <th>7</th>\n      <td>2011-Q4</td>\n      <td>4024.623105</td>\n    </tr>\n    <tr>\n      <th>8</th>\n      <td>2012-Q1</td>\n      <td>4300.954612</td>\n    </tr>\n    <tr>\n      <th>9</th>\n      <td>2012-Q2</td>\n      <td>4397.125023</td>\n    </tr>\n    <tr>\n      <th>10</th>\n      <td>2012-Q3</td>\n      <td>3964.329202</td>\n    </tr>\n    <tr>\n      <th>11</th>\n      <td>2012-Q4</td>\n      <td>3982.154251</td>\n    </tr>\n    <tr>\n      <th>12</th>\n      <td>2013-Q1</td>\n      <td>4151.144543</td>\n    </tr>\n    <tr>\n      <th>13</th>\n      <td>2013-Q2</td>\n      <td>4003.908859</td>\n    </tr>\n    <tr>\n      <th>14</th>\n      <td>2013-Q3</td>\n      <td>3927.815451</td>\n    </tr>\n    <tr>\n      <th>15</th>\n      <td>2013-Q4</td>\n      <td>3977.879084</td>\n    </tr>\n    <tr>\n      <th>16</th>\n      <td>2014-Q1</td>\n      <td>4054.392754</td>\n    </tr>\n    <tr>\n      <th>17</th>\n      <td>2014-Q2</td>\n      <td>3942.065317</td>\n    </tr>\n    <tr>\n      <th>18</th>\n      <td>2014-Q3</td>\n      <td>3926.678090</td>\n    </tr>\n    <tr>\n      <th>19</th>\n      <td>2014-Q4</td>\n      <td>3914.212198</td>\n    </tr>\n    <tr>\n      <th>20</th>\n      <td>2015-Q1</td>\n      <td>4054.575552</td>\n    </tr>\n    <tr>\n      <th>21</th>\n      <td>2015-Q2</td>\n      <td>4050.648081</td>\n    </tr>\n    <tr>\n      <th>22</th>\n      <td>2015-Q3</td>\n      <td>4101.008577</td>\n    </tr>\n    <tr>\n      <th>23</th>\n      <td>2015-Q4</td>\n      <td>4091.410441</td>\n    </tr>\n    <tr>\n      <th>24</th>\n      <td>2016-Q1</td>\n      <td>4224.336507</td>\n    </tr>\n    <tr>\n      <th>25</th>\n      <td>2016-Q2</td>\n      <td>4217.045496</td>\n    </tr>\n    <tr>\n      <th>26</th>\n      <td>2016-Q3</td>\n      <td>4229.198978</td>\n    </tr>\n    <tr>\n      <th>27</th>\n      <td>2016-Q4</td>\n      <td>4240.543391</td>\n    </tr>\n    <tr>\n      <th>28</th>\n      <td>2017-Q1</td>\n      <td>4314.884094</td>\n    </tr>\n    <tr>\n      <th>29</th>\n      <td>2017-Q2</td>\n      <td>4312.328490</td>\n    </tr>\n    <tr>\n      <th>30</th>\n      <td>2017-Q3</td>\n      <td>4187.703919</td>\n    </tr>\n    <tr>\n      <th>31</th>\n      <td>2017-Q4</td>\n      <td>4218.828129</td>\n    </tr>\n    <tr>\n      <th>32</th>\n      <td>2018-Q1</td>\n      <td>4409.566965</td>\n    </tr>\n    <tr>\n      <th>33</th>\n      <td>2018-Q2</td>\n      <td>4402.067760</td>\n    </tr>\n    <tr>\n      <th>34</th>\n      <td>2018-Q3</td>\n      <td>4379.768739</td>\n    </tr>\n    <tr>\n      <th>35</th>\n      <td>2018-Q4</td>\n      <td>4394.688543</td>\n    </tr>\n    <tr>\n      <th>36</th>\n      <td>2019-Q1</td>\n      <td>4665.104819</td>\n    </tr>\n    <tr>\n      <th>37</th>\n      <td>2019-Q2</td>\n      <td>4688.870562</td>\n    </tr>\n    <tr>\n      <th>38</th>\n      <td>2019-Q3</td>\n      <td>4691.553660</td>\n    </tr>\n    <tr>\n      <th>39</th>\n      <td>2019-Q4</td>\n      <td>4860.776526</td>\n    </tr>\n    <tr>\n      <th>40</th>\n      <td>2020-Q1</td>\n      <td>5221.852436</td>\n    </tr>\n    <tr>\n      <th>41</th>\n      <td>2020-Q3</td>\n      <td>4794.385110</td>\n    </tr>\n    <tr>\n      <th>42</th>\n      <td>2020-Q4</td>\n      <td>5022.790319</td>\n    </tr>\n  </tbody>\n</table>\n</div>"
     },
     "metadata": {},
     "execution_count": 30
    }
   ],
   "source": [
    "salary_male"
   ]
  },
  {
   "cell_type": "code",
   "execution_count": 31,
   "metadata": {},
   "outputs": [
    {
     "output_type": "execute_result",
     "data": {
      "text/plain": [
       "   Trimestre        Mujer       Hombre\n",
       "0    2010-Q1  2461.631872  4497.099017\n",
       "1    2010-Q2  2488.314399  4504.512960\n",
       "2    2010-Q3  2525.504047  4318.655958\n",
       "3    2010-Q4  2473.760762  4169.401030\n",
       "4    2011-Q1  2576.878987  4277.819376\n",
       "5    2011-Q2  2505.536694  4120.119249\n",
       "6    2011-Q3  2507.493342  4279.173757\n",
       "7    2011-Q4  2370.823191  4024.623105\n",
       "8    2012-Q1  2578.617045  4300.954612\n",
       "9    2012-Q2  2572.478058  4397.125023\n",
       "10   2012-Q3  3065.759313  3964.329202\n",
       "11   2012-Q4  3116.423249  3982.154251\n",
       "12   2013-Q1  3207.805724  4151.144543\n",
       "13   2013-Q2  3139.587410  4003.908859\n",
       "14   2013-Q3  3162.640311  3927.815451\n",
       "15   2013-Q4  3041.953527  3977.879084\n",
       "16   2014-Q1  3153.423362  4054.392754\n",
       "17   2014-Q2  3082.999624  3942.065317\n",
       "18   2014-Q3  3066.598279  3926.678090\n",
       "19   2014-Q4  3034.017419  3914.212198\n",
       "20   2015-Q1  3136.870839  4054.575552\n",
       "21   2015-Q2  3153.581189  4050.648081\n",
       "22   2015-Q3  3212.278226  4101.008577\n",
       "23   2015-Q4  3140.565960  4091.410441\n",
       "24   2016-Q1  3235.619892  4224.336507\n",
       "25   2016-Q2  3262.611753  4217.045496\n",
       "26   2016-Q3  3239.291977  4229.198978\n",
       "27   2016-Q4  3273.948313  4240.543391\n",
       "28   2017-Q1  3413.259470  4314.884094\n",
       "29   2017-Q2  3342.083691  4312.328490\n",
       "30   2017-Q3  3298.625117  4187.703919\n",
       "31   2017-Q4  3221.439234  4218.828129\n",
       "32   2018-Q1  3411.981155  4409.566965\n",
       "33   2018-Q2  3421.285015  4402.067760\n",
       "34   2018-Q3  3422.864353  4379.768739\n",
       "35   2018-Q4  3442.654023  4394.688543\n",
       "36   2019-Q1  3573.142810  4665.104819\n",
       "37   2019-Q2  3632.491484  4688.870562\n",
       "38   2019-Q3  3641.510054  4691.553660\n",
       "39   2019-Q4  3730.499724  4860.776526\n",
       "40   2020-Q1  4099.867066  5221.852436\n",
       "41   2020-Q3  4059.674764  4794.385110\n",
       "42   2020-Q4  4095.757193  5022.790319"
      ],
      "text/html": "<div>\n<style scoped>\n    .dataframe tbody tr th:only-of-type {\n        vertical-align: middle;\n    }\n\n    .dataframe tbody tr th {\n        vertical-align: top;\n    }\n\n    .dataframe thead th {\n        text-align: right;\n    }\n</style>\n<table border=\"1\" class=\"dataframe\">\n  <thead>\n    <tr style=\"text-align: right;\">\n      <th></th>\n      <th>Trimestre</th>\n      <th>Mujer</th>\n      <th>Hombre</th>\n    </tr>\n  </thead>\n  <tbody>\n    <tr>\n      <th>0</th>\n      <td>2010-Q1</td>\n      <td>2461.631872</td>\n      <td>4497.099017</td>\n    </tr>\n    <tr>\n      <th>1</th>\n      <td>2010-Q2</td>\n      <td>2488.314399</td>\n      <td>4504.512960</td>\n    </tr>\n    <tr>\n      <th>2</th>\n      <td>2010-Q3</td>\n      <td>2525.504047</td>\n      <td>4318.655958</td>\n    </tr>\n    <tr>\n      <th>3</th>\n      <td>2010-Q4</td>\n      <td>2473.760762</td>\n      <td>4169.401030</td>\n    </tr>\n    <tr>\n      <th>4</th>\n      <td>2011-Q1</td>\n      <td>2576.878987</td>\n      <td>4277.819376</td>\n    </tr>\n    <tr>\n      <th>5</th>\n      <td>2011-Q2</td>\n      <td>2505.536694</td>\n      <td>4120.119249</td>\n    </tr>\n    <tr>\n      <th>6</th>\n      <td>2011-Q3</td>\n      <td>2507.493342</td>\n      <td>4279.173757</td>\n    </tr>\n    <tr>\n      <th>7</th>\n      <td>2011-Q4</td>\n      <td>2370.823191</td>\n      <td>4024.623105</td>\n    </tr>\n    <tr>\n      <th>8</th>\n      <td>2012-Q1</td>\n      <td>2578.617045</td>\n      <td>4300.954612</td>\n    </tr>\n    <tr>\n      <th>9</th>\n      <td>2012-Q2</td>\n      <td>2572.478058</td>\n      <td>4397.125023</td>\n    </tr>\n    <tr>\n      <th>10</th>\n      <td>2012-Q3</td>\n      <td>3065.759313</td>\n      <td>3964.329202</td>\n    </tr>\n    <tr>\n      <th>11</th>\n      <td>2012-Q4</td>\n      <td>3116.423249</td>\n      <td>3982.154251</td>\n    </tr>\n    <tr>\n      <th>12</th>\n      <td>2013-Q1</td>\n      <td>3207.805724</td>\n      <td>4151.144543</td>\n    </tr>\n    <tr>\n      <th>13</th>\n      <td>2013-Q2</td>\n      <td>3139.587410</td>\n      <td>4003.908859</td>\n    </tr>\n    <tr>\n      <th>14</th>\n      <td>2013-Q3</td>\n      <td>3162.640311</td>\n      <td>3927.815451</td>\n    </tr>\n    <tr>\n      <th>15</th>\n      <td>2013-Q4</td>\n      <td>3041.953527</td>\n      <td>3977.879084</td>\n    </tr>\n    <tr>\n      <th>16</th>\n      <td>2014-Q1</td>\n      <td>3153.423362</td>\n      <td>4054.392754</td>\n    </tr>\n    <tr>\n      <th>17</th>\n      <td>2014-Q2</td>\n      <td>3082.999624</td>\n      <td>3942.065317</td>\n    </tr>\n    <tr>\n      <th>18</th>\n      <td>2014-Q3</td>\n      <td>3066.598279</td>\n      <td>3926.678090</td>\n    </tr>\n    <tr>\n      <th>19</th>\n      <td>2014-Q4</td>\n      <td>3034.017419</td>\n      <td>3914.212198</td>\n    </tr>\n    <tr>\n      <th>20</th>\n      <td>2015-Q1</td>\n      <td>3136.870839</td>\n      <td>4054.575552</td>\n    </tr>\n    <tr>\n      <th>21</th>\n      <td>2015-Q2</td>\n      <td>3153.581189</td>\n      <td>4050.648081</td>\n    </tr>\n    <tr>\n      <th>22</th>\n      <td>2015-Q3</td>\n      <td>3212.278226</td>\n      <td>4101.008577</td>\n    </tr>\n    <tr>\n      <th>23</th>\n      <td>2015-Q4</td>\n      <td>3140.565960</td>\n      <td>4091.410441</td>\n    </tr>\n    <tr>\n      <th>24</th>\n      <td>2016-Q1</td>\n      <td>3235.619892</td>\n      <td>4224.336507</td>\n    </tr>\n    <tr>\n      <th>25</th>\n      <td>2016-Q2</td>\n      <td>3262.611753</td>\n      <td>4217.045496</td>\n    </tr>\n    <tr>\n      <th>26</th>\n      <td>2016-Q3</td>\n      <td>3239.291977</td>\n      <td>4229.198978</td>\n    </tr>\n    <tr>\n      <th>27</th>\n      <td>2016-Q4</td>\n      <td>3273.948313</td>\n      <td>4240.543391</td>\n    </tr>\n    <tr>\n      <th>28</th>\n      <td>2017-Q1</td>\n      <td>3413.259470</td>\n      <td>4314.884094</td>\n    </tr>\n    <tr>\n      <th>29</th>\n      <td>2017-Q2</td>\n      <td>3342.083691</td>\n      <td>4312.328490</td>\n    </tr>\n    <tr>\n      <th>30</th>\n      <td>2017-Q3</td>\n      <td>3298.625117</td>\n      <td>4187.703919</td>\n    </tr>\n    <tr>\n      <th>31</th>\n      <td>2017-Q4</td>\n      <td>3221.439234</td>\n      <td>4218.828129</td>\n    </tr>\n    <tr>\n      <th>32</th>\n      <td>2018-Q1</td>\n      <td>3411.981155</td>\n      <td>4409.566965</td>\n    </tr>\n    <tr>\n      <th>33</th>\n      <td>2018-Q2</td>\n      <td>3421.285015</td>\n      <td>4402.067760</td>\n    </tr>\n    <tr>\n      <th>34</th>\n      <td>2018-Q3</td>\n      <td>3422.864353</td>\n      <td>4379.768739</td>\n    </tr>\n    <tr>\n      <th>35</th>\n      <td>2018-Q4</td>\n      <td>3442.654023</td>\n      <td>4394.688543</td>\n    </tr>\n    <tr>\n      <th>36</th>\n      <td>2019-Q1</td>\n      <td>3573.142810</td>\n      <td>4665.104819</td>\n    </tr>\n    <tr>\n      <th>37</th>\n      <td>2019-Q2</td>\n      <td>3632.491484</td>\n      <td>4688.870562</td>\n    </tr>\n    <tr>\n      <th>38</th>\n      <td>2019-Q3</td>\n      <td>3641.510054</td>\n      <td>4691.553660</td>\n    </tr>\n    <tr>\n      <th>39</th>\n      <td>2019-Q4</td>\n      <td>3730.499724</td>\n      <td>4860.776526</td>\n    </tr>\n    <tr>\n      <th>40</th>\n      <td>2020-Q1</td>\n      <td>4099.867066</td>\n      <td>5221.852436</td>\n    </tr>\n    <tr>\n      <th>41</th>\n      <td>2020-Q3</td>\n      <td>4059.674764</td>\n      <td>4794.385110</td>\n    </tr>\n    <tr>\n      <th>42</th>\n      <td>2020-Q4</td>\n      <td>4095.757193</td>\n      <td>5022.790319</td>\n    </tr>\n  </tbody>\n</table>\n</div>"
     },
     "metadata": {},
     "execution_count": 31
    }
   ],
   "source": [
    "#Create a table for a difference salary visualization\n",
    "dictionary = {'Trimestre':salary_female['Quarter'], 'Mujer' : salary_female['Monthly Wage'],'Hombre' : salary_male['Monthly Wage']}\n",
    "salary = pd.DataFrame(dictionary)\n",
    "salary"
   ]
  },
  {
   "cell_type": "code",
   "execution_count": 32,
   "metadata": {},
   "outputs": [
    {
     "output_type": "display_data",
     "data": {
      "text/plain": "<Figure size 432x288 with 1 Axes>",
      "image/svg+xml": "<?xml version=\"1.0\" encoding=\"utf-8\" standalone=\"no\"?>\n<!DOCTYPE svg PUBLIC \"-//W3C//DTD SVG 1.1//EN\"\n  \"http://www.w3.org/Graphics/SVG/1.1/DTD/svg11.dtd\">\n<!-- Created with matplotlib (https://matplotlib.org/) -->\n<svg height=\"266.374219pt\" version=\"1.1\" viewBox=\"0 0 404.466818 266.374219\" width=\"404.466818pt\" xmlns=\"http://www.w3.org/2000/svg\" xmlns:xlink=\"http://www.w3.org/1999/xlink\">\n <defs>\n  <style type=\"text/css\">\n*{stroke-linecap:butt;stroke-linejoin:round;}\n  </style>\n </defs>\n <g id=\"figure_1\">\n  <g id=\"patch_1\">\n   <path d=\"M 0 266.374219 \nL 404.466818 266.374219 \nL 404.466818 0 \nL 0 0 \nz\n\" style=\"fill:#ffffff;\"/>\n  </g>\n  <g id=\"axes_1\">\n   <g id=\"patch_2\">\n    <path d=\"M 56.283125 224.64 \nL 391.083125 224.64 \nL 391.083125 7.2 \nL 56.283125 7.2 \nz\n\" style=\"fill:#ffffff;\"/>\n   </g>\n   <g id=\"matplotlib.axis_1\">\n    <g id=\"xtick_1\">\n     <g id=\"line2d_1\">\n      <path clip-path=\"url(#p56dd41812b)\" d=\"M 71.501307 224.64 \nL 71.501307 7.2 \n\" style=\"fill:none;stroke:#cccccc;stroke-linecap:round;\"/>\n     </g>\n     <g id=\"text_1\">\n      <!-- 2010-Q1 -->\n      <defs>\n       <path d=\"M 50.34375 8.453125 \nL 50.34375 0 \nL 3.03125 0 \nQ 2.9375 3.171875 4.046875 6.109375 \nQ 5.859375 10.9375 9.828125 15.625 \nQ 13.8125 20.3125 21.34375 26.46875 \nQ 33.015625 36.03125 37.109375 41.625 \nQ 41.21875 47.21875 41.21875 52.203125 \nQ 41.21875 57.421875 37.46875 61 \nQ 33.734375 64.59375 27.734375 64.59375 \nQ 21.390625 64.59375 17.578125 60.78125 \nQ 13.765625 56.984375 13.71875 50.25 \nL 4.6875 51.171875 \nQ 5.609375 61.28125 11.65625 66.578125 \nQ 17.71875 71.875 27.9375 71.875 \nQ 38.234375 71.875 44.234375 66.15625 \nQ 50.25 60.453125 50.25 52 \nQ 50.25 47.703125 48.484375 43.546875 \nQ 46.734375 39.40625 42.65625 34.8125 \nQ 38.578125 30.21875 29.109375 22.21875 \nQ 21.1875 15.578125 18.9375 13.203125 \nQ 16.703125 10.84375 15.234375 8.453125 \nz\n\" id=\"ArialMT-50\"/>\n       <path d=\"M 4.15625 35.296875 \nQ 4.15625 48 6.765625 55.734375 \nQ 9.375 63.484375 14.515625 67.671875 \nQ 19.671875 71.875 27.484375 71.875 \nQ 33.25 71.875 37.59375 69.546875 \nQ 41.9375 67.234375 44.765625 62.859375 \nQ 47.609375 58.5 49.21875 52.21875 \nQ 50.828125 45.953125 50.828125 35.296875 \nQ 50.828125 22.703125 48.234375 14.96875 \nQ 45.65625 7.234375 40.5 3 \nQ 35.359375 -1.21875 27.484375 -1.21875 \nQ 17.140625 -1.21875 11.234375 6.203125 \nQ 4.15625 15.140625 4.15625 35.296875 \nz\nM 13.1875 35.296875 \nQ 13.1875 17.671875 17.3125 11.828125 \nQ 21.4375 6 27.484375 6 \nQ 33.546875 6 37.671875 11.859375 \nQ 41.796875 17.71875 41.796875 35.296875 \nQ 41.796875 52.984375 37.671875 58.78125 \nQ 33.546875 64.59375 27.390625 64.59375 \nQ 21.34375 64.59375 17.71875 59.46875 \nQ 13.1875 52.9375 13.1875 35.296875 \nz\n\" id=\"ArialMT-48\"/>\n       <path d=\"M 37.25 0 \nL 28.46875 0 \nL 28.46875 56 \nQ 25.296875 52.984375 20.140625 49.953125 \nQ 14.984375 46.921875 10.890625 45.40625 \nL 10.890625 53.90625 \nQ 18.265625 57.375 23.78125 62.296875 \nQ 29.296875 67.234375 31.59375 71.875 \nL 37.25 71.875 \nz\n\" id=\"ArialMT-49\"/>\n       <path d=\"M 3.171875 21.484375 \nL 3.171875 30.328125 \nL 30.171875 30.328125 \nL 30.171875 21.484375 \nz\n\" id=\"ArialMT-45\"/>\n       <path d=\"M 61.96875 7.671875 \nQ 68.5625 3.125 74.125 1.03125 \nL 71.34375 -5.5625 \nQ 63.625 -2.78125 55.953125 3.21875 \nQ 48 -1.21875 38.375 -1.21875 \nQ 28.65625 -1.21875 20.75 3.46875 \nQ 12.84375 8.15625 8.5625 16.640625 \nQ 4.296875 25.140625 4.296875 35.796875 \nQ 4.296875 46.390625 8.59375 55.078125 \nQ 12.890625 63.765625 20.828125 68.3125 \nQ 28.765625 72.859375 38.578125 72.859375 \nQ 48.484375 72.859375 56.4375 68.140625 \nQ 64.40625 63.421875 68.578125 54.953125 \nQ 72.75 46.484375 72.75 35.84375 \nQ 72.75 27 70.0625 19.9375 \nQ 67.390625 12.890625 61.96875 7.671875 \nz\nM 41.109375 19.78125 \nQ 49.3125 17.484375 54.640625 12.9375 \nQ 62.984375 20.5625 62.984375 35.84375 \nQ 62.984375 44.53125 60.03125 51.015625 \nQ 57.078125 57.515625 51.390625 61.109375 \nQ 45.703125 64.703125 38.625 64.703125 \nQ 28.03125 64.703125 21.046875 57.453125 \nQ 14.0625 50.203125 14.0625 35.796875 \nQ 14.0625 21.828125 20.96875 14.359375 \nQ 27.875 6.890625 38.625 6.890625 \nQ 43.703125 6.890625 48.1875 8.796875 \nQ 43.75 11.671875 38.8125 12.890625 \nz\n\" id=\"ArialMT-81\"/>\n      </defs>\n      <g style=\"fill:#262626;\" transform=\"translate(50.099432 242.013594)scale(0.11 -0.11)\">\n       <use xlink:href=\"#ArialMT-50\"/>\n       <use x=\"55.615234\" xlink:href=\"#ArialMT-48\"/>\n       <use x=\"111.230469\" xlink:href=\"#ArialMT-49\"/>\n       <use x=\"166.845703\" xlink:href=\"#ArialMT-48\"/>\n       <use x=\"222.460938\" xlink:href=\"#ArialMT-45\"/>\n       <use x=\"255.761719\" xlink:href=\"#ArialMT-81\"/>\n       <use x=\"333.544922\" xlink:href=\"#ArialMT-49\"/>\n      </g>\n     </g>\n    </g>\n    <g id=\"xtick_2\">\n     <g id=\"line2d_2\">\n      <path clip-path=\"url(#p56dd41812b)\" d=\"M 78.74806 224.64 \nL 78.74806 7.2 \n\" style=\"fill:none;stroke:#cccccc;stroke-linecap:round;\"/>\n     </g>\n     <g id=\"text_2\">\n      <!-- 2010-Q2 -->\n      <g style=\"fill:#262626;\" transform=\"translate(57.346185 242.013594)scale(0.11 -0.11)\">\n       <use xlink:href=\"#ArialMT-50\"/>\n       <use x=\"55.615234\" xlink:href=\"#ArialMT-48\"/>\n       <use x=\"111.230469\" xlink:href=\"#ArialMT-49\"/>\n       <use x=\"166.845703\" xlink:href=\"#ArialMT-48\"/>\n       <use x=\"222.460938\" xlink:href=\"#ArialMT-45\"/>\n       <use x=\"255.761719\" xlink:href=\"#ArialMT-81\"/>\n       <use x=\"333.544922\" xlink:href=\"#ArialMT-50\"/>\n      </g>\n     </g>\n    </g>\n    <g id=\"xtick_3\">\n     <g id=\"line2d_3\">\n      <path clip-path=\"url(#p56dd41812b)\" d=\"M 85.994813 224.64 \nL 85.994813 7.2 \n\" style=\"fill:none;stroke:#cccccc;stroke-linecap:round;\"/>\n     </g>\n     <g id=\"text_3\">\n      <!-- 2010-Q3 -->\n      <defs>\n       <path d=\"M 4.203125 18.890625 \nL 12.984375 20.0625 \nQ 14.5 12.59375 18.140625 9.296875 \nQ 21.78125 6 27 6 \nQ 33.203125 6 37.46875 10.296875 \nQ 41.75 14.59375 41.75 20.953125 \nQ 41.75 27 37.796875 30.921875 \nQ 33.84375 34.859375 27.734375 34.859375 \nQ 25.25 34.859375 21.53125 33.890625 \nL 22.515625 41.609375 \nQ 23.390625 41.5 23.921875 41.5 \nQ 29.546875 41.5 34.03125 44.421875 \nQ 38.53125 47.359375 38.53125 53.46875 \nQ 38.53125 58.296875 35.25 61.46875 \nQ 31.984375 64.65625 26.8125 64.65625 \nQ 21.6875 64.65625 18.265625 61.421875 \nQ 14.84375 58.203125 13.875 51.765625 \nL 5.078125 53.328125 \nQ 6.6875 62.15625 12.390625 67.015625 \nQ 18.109375 71.875 26.609375 71.875 \nQ 32.46875 71.875 37.390625 69.359375 \nQ 42.328125 66.84375 44.9375 62.5 \nQ 47.5625 58.15625 47.5625 53.265625 \nQ 47.5625 48.640625 45.0625 44.828125 \nQ 42.578125 41.015625 37.703125 38.765625 \nQ 44.046875 37.3125 47.5625 32.6875 \nQ 51.078125 28.078125 51.078125 21.140625 \nQ 51.078125 11.765625 44.234375 5.25 \nQ 37.40625 -1.265625 26.953125 -1.265625 \nQ 17.53125 -1.265625 11.296875 4.34375 \nQ 5.078125 9.96875 4.203125 18.890625 \nz\n\" id=\"ArialMT-51\"/>\n      </defs>\n      <g style=\"fill:#262626;\" transform=\"translate(64.592938 242.013594)scale(0.11 -0.11)\">\n       <use xlink:href=\"#ArialMT-50\"/>\n       <use x=\"55.615234\" xlink:href=\"#ArialMT-48\"/>\n       <use x=\"111.230469\" xlink:href=\"#ArialMT-49\"/>\n       <use x=\"166.845703\" xlink:href=\"#ArialMT-48\"/>\n       <use x=\"222.460938\" xlink:href=\"#ArialMT-45\"/>\n       <use x=\"255.761719\" xlink:href=\"#ArialMT-81\"/>\n       <use x=\"333.544922\" xlink:href=\"#ArialMT-51\"/>\n      </g>\n     </g>\n    </g>\n    <g id=\"xtick_4\">\n     <g id=\"line2d_4\">\n      <path clip-path=\"url(#p56dd41812b)\" d=\"M 93.241567 224.64 \nL 93.241567 7.2 \n\" style=\"fill:none;stroke:#cccccc;stroke-linecap:round;\"/>\n     </g>\n     <g id=\"text_4\">\n      <!-- 2010-Q4 -->\n      <defs>\n       <path d=\"M 32.328125 0 \nL 32.328125 17.140625 \nL 1.265625 17.140625 \nL 1.265625 25.203125 \nL 33.9375 71.578125 \nL 41.109375 71.578125 \nL 41.109375 25.203125 \nL 50.78125 25.203125 \nL 50.78125 17.140625 \nL 41.109375 17.140625 \nL 41.109375 0 \nz\nM 32.328125 25.203125 \nL 32.328125 57.46875 \nL 9.90625 25.203125 \nz\n\" id=\"ArialMT-52\"/>\n      </defs>\n      <g style=\"fill:#262626;\" transform=\"translate(71.839692 242.013594)scale(0.11 -0.11)\">\n       <use xlink:href=\"#ArialMT-50\"/>\n       <use x=\"55.615234\" xlink:href=\"#ArialMT-48\"/>\n       <use x=\"111.230469\" xlink:href=\"#ArialMT-49\"/>\n       <use x=\"166.845703\" xlink:href=\"#ArialMT-48\"/>\n       <use x=\"222.460938\" xlink:href=\"#ArialMT-45\"/>\n       <use x=\"255.761719\" xlink:href=\"#ArialMT-81\"/>\n       <use x=\"333.544922\" xlink:href=\"#ArialMT-52\"/>\n      </g>\n     </g>\n    </g>\n    <g id=\"xtick_5\">\n     <g id=\"line2d_5\">\n      <path clip-path=\"url(#p56dd41812b)\" d=\"M 100.48832 224.64 \nL 100.48832 7.2 \n\" style=\"fill:none;stroke:#cccccc;stroke-linecap:round;\"/>\n     </g>\n     <g id=\"text_5\">\n      <!-- 2011-Q1 -->\n      <g style=\"fill:#262626;\" transform=\"translate(79.49207 242.013594)scale(0.11 -0.11)\">\n       <use xlink:href=\"#ArialMT-50\"/>\n       <use x=\"55.615234\" xlink:href=\"#ArialMT-48\"/>\n       <use x=\"111.230469\" xlink:href=\"#ArialMT-49\"/>\n       <use x=\"159.470703\" xlink:href=\"#ArialMT-49\"/>\n       <use x=\"215.085938\" xlink:href=\"#ArialMT-45\"/>\n       <use x=\"248.386719\" xlink:href=\"#ArialMT-81\"/>\n       <use x=\"326.169922\" xlink:href=\"#ArialMT-49\"/>\n      </g>\n     </g>\n    </g>\n    <g id=\"xtick_6\">\n     <g id=\"line2d_6\">\n      <path clip-path=\"url(#p56dd41812b)\" d=\"M 107.735073 224.64 \nL 107.735073 7.2 \n\" style=\"fill:none;stroke:#cccccc;stroke-linecap:round;\"/>\n     </g>\n     <g id=\"text_6\">\n      <!-- 2011-Q2 -->\n      <g style=\"fill:#262626;\" transform=\"translate(86.738823 242.013594)scale(0.11 -0.11)\">\n       <use xlink:href=\"#ArialMT-50\"/>\n       <use x=\"55.615234\" xlink:href=\"#ArialMT-48\"/>\n       <use x=\"111.230469\" xlink:href=\"#ArialMT-49\"/>\n       <use x=\"159.470703\" xlink:href=\"#ArialMT-49\"/>\n       <use x=\"215.085938\" xlink:href=\"#ArialMT-45\"/>\n       <use x=\"248.386719\" xlink:href=\"#ArialMT-81\"/>\n       <use x=\"326.169922\" xlink:href=\"#ArialMT-50\"/>\n      </g>\n     </g>\n    </g>\n    <g id=\"xtick_7\">\n     <g id=\"line2d_7\">\n      <path clip-path=\"url(#p56dd41812b)\" d=\"M 114.981826 224.64 \nL 114.981826 7.2 \n\" style=\"fill:none;stroke:#cccccc;stroke-linecap:round;\"/>\n     </g>\n     <g id=\"text_7\">\n      <!-- 2011-Q3 -->\n      <g style=\"fill:#262626;\" transform=\"translate(93.985576 242.013594)scale(0.11 -0.11)\">\n       <use xlink:href=\"#ArialMT-50\"/>\n       <use x=\"55.615234\" xlink:href=\"#ArialMT-48\"/>\n       <use x=\"111.230469\" xlink:href=\"#ArialMT-49\"/>\n       <use x=\"159.470703\" xlink:href=\"#ArialMT-49\"/>\n       <use x=\"215.085938\" xlink:href=\"#ArialMT-45\"/>\n       <use x=\"248.386719\" xlink:href=\"#ArialMT-81\"/>\n       <use x=\"326.169922\" xlink:href=\"#ArialMT-51\"/>\n      </g>\n     </g>\n    </g>\n    <g id=\"xtick_8\">\n     <g id=\"line2d_8\">\n      <path clip-path=\"url(#p56dd41812b)\" d=\"M 122.22858 224.64 \nL 122.22858 7.2 \n\" style=\"fill:none;stroke:#cccccc;stroke-linecap:round;\"/>\n     </g>\n     <g id=\"text_8\">\n      <!-- 2011-Q4 -->\n      <g style=\"fill:#262626;\" transform=\"translate(101.23233 242.013594)scale(0.11 -0.11)\">\n       <use xlink:href=\"#ArialMT-50\"/>\n       <use x=\"55.615234\" xlink:href=\"#ArialMT-48\"/>\n       <use x=\"111.230469\" xlink:href=\"#ArialMT-49\"/>\n       <use x=\"159.470703\" xlink:href=\"#ArialMT-49\"/>\n       <use x=\"215.085938\" xlink:href=\"#ArialMT-45\"/>\n       <use x=\"248.386719\" xlink:href=\"#ArialMT-81\"/>\n       <use x=\"326.169922\" xlink:href=\"#ArialMT-52\"/>\n      </g>\n     </g>\n    </g>\n    <g id=\"xtick_9\">\n     <g id=\"line2d_9\">\n      <path clip-path=\"url(#p56dd41812b)\" d=\"M 129.475333 224.64 \nL 129.475333 7.2 \n\" style=\"fill:none;stroke:#cccccc;stroke-linecap:round;\"/>\n     </g>\n     <g id=\"text_9\">\n      <!-- 2012-Q1 -->\n      <g style=\"fill:#262626;\" transform=\"translate(108.073458 242.013594)scale(0.11 -0.11)\">\n       <use xlink:href=\"#ArialMT-50\"/>\n       <use x=\"55.615234\" xlink:href=\"#ArialMT-48\"/>\n       <use x=\"111.230469\" xlink:href=\"#ArialMT-49\"/>\n       <use x=\"166.845703\" xlink:href=\"#ArialMT-50\"/>\n       <use x=\"222.460938\" xlink:href=\"#ArialMT-45\"/>\n       <use x=\"255.761719\" xlink:href=\"#ArialMT-81\"/>\n       <use x=\"333.544922\" xlink:href=\"#ArialMT-49\"/>\n      </g>\n     </g>\n    </g>\n    <g id=\"xtick_10\">\n     <g id=\"line2d_10\">\n      <path clip-path=\"url(#p56dd41812b)\" d=\"M 136.722086 224.64 \nL 136.722086 7.2 \n\" style=\"fill:none;stroke:#cccccc;stroke-linecap:round;\"/>\n     </g>\n     <g id=\"text_10\">\n      <!-- 2012-Q2 -->\n      <g style=\"fill:#262626;\" transform=\"translate(115.320211 242.013594)scale(0.11 -0.11)\">\n       <use xlink:href=\"#ArialMT-50\"/>\n       <use x=\"55.615234\" xlink:href=\"#ArialMT-48\"/>\n       <use x=\"111.230469\" xlink:href=\"#ArialMT-49\"/>\n       <use x=\"166.845703\" xlink:href=\"#ArialMT-50\"/>\n       <use x=\"222.460938\" xlink:href=\"#ArialMT-45\"/>\n       <use x=\"255.761719\" xlink:href=\"#ArialMT-81\"/>\n       <use x=\"333.544922\" xlink:href=\"#ArialMT-50\"/>\n      </g>\n     </g>\n    </g>\n    <g id=\"xtick_11\">\n     <g id=\"line2d_11\">\n      <path clip-path=\"url(#p56dd41812b)\" d=\"M 143.968839 224.64 \nL 143.968839 7.2 \n\" style=\"fill:none;stroke:#cccccc;stroke-linecap:round;\"/>\n     </g>\n     <g id=\"text_11\">\n      <!-- 2012-Q3 -->\n      <g style=\"fill:#262626;\" transform=\"translate(122.566964 242.013594)scale(0.11 -0.11)\">\n       <use xlink:href=\"#ArialMT-50\"/>\n       <use x=\"55.615234\" xlink:href=\"#ArialMT-48\"/>\n       <use x=\"111.230469\" xlink:href=\"#ArialMT-49\"/>\n       <use x=\"166.845703\" xlink:href=\"#ArialMT-50\"/>\n       <use x=\"222.460938\" xlink:href=\"#ArialMT-45\"/>\n       <use x=\"255.761719\" xlink:href=\"#ArialMT-81\"/>\n       <use x=\"333.544922\" xlink:href=\"#ArialMT-51\"/>\n      </g>\n     </g>\n    </g>\n    <g id=\"xtick_12\">\n     <g id=\"line2d_12\">\n      <path clip-path=\"url(#p56dd41812b)\" d=\"M 151.215593 224.64 \nL 151.215593 7.2 \n\" style=\"fill:none;stroke:#cccccc;stroke-linecap:round;\"/>\n     </g>\n     <g id=\"text_12\">\n      <!-- 2012-Q4 -->\n      <g style=\"fill:#262626;\" transform=\"translate(129.813718 242.013594)scale(0.11 -0.11)\">\n       <use xlink:href=\"#ArialMT-50\"/>\n       <use x=\"55.615234\" xlink:href=\"#ArialMT-48\"/>\n       <use x=\"111.230469\" xlink:href=\"#ArialMT-49\"/>\n       <use x=\"166.845703\" xlink:href=\"#ArialMT-50\"/>\n       <use x=\"222.460938\" xlink:href=\"#ArialMT-45\"/>\n       <use x=\"255.761719\" xlink:href=\"#ArialMT-81\"/>\n       <use x=\"333.544922\" xlink:href=\"#ArialMT-52\"/>\n      </g>\n     </g>\n    </g>\n    <g id=\"xtick_13\">\n     <g id=\"line2d_13\">\n      <path clip-path=\"url(#p56dd41812b)\" d=\"M 158.462346 224.64 \nL 158.462346 7.2 \n\" style=\"fill:none;stroke:#cccccc;stroke-linecap:round;\"/>\n     </g>\n     <g id=\"text_13\">\n      <!-- 2013-Q1 -->\n      <g style=\"fill:#262626;\" transform=\"translate(137.060471 242.013594)scale(0.11 -0.11)\">\n       <use xlink:href=\"#ArialMT-50\"/>\n       <use x=\"55.615234\" xlink:href=\"#ArialMT-48\"/>\n       <use x=\"111.230469\" xlink:href=\"#ArialMT-49\"/>\n       <use x=\"166.845703\" xlink:href=\"#ArialMT-51\"/>\n       <use x=\"222.460938\" xlink:href=\"#ArialMT-45\"/>\n       <use x=\"255.761719\" xlink:href=\"#ArialMT-81\"/>\n       <use x=\"333.544922\" xlink:href=\"#ArialMT-49\"/>\n      </g>\n     </g>\n    </g>\n    <g id=\"xtick_14\">\n     <g id=\"line2d_14\">\n      <path clip-path=\"url(#p56dd41812b)\" d=\"M 165.709099 224.64 \nL 165.709099 7.2 \n\" style=\"fill:none;stroke:#cccccc;stroke-linecap:round;\"/>\n     </g>\n     <g id=\"text_14\">\n      <!-- 2013-Q2 -->\n      <g style=\"fill:#262626;\" transform=\"translate(144.307224 242.013594)scale(0.11 -0.11)\">\n       <use xlink:href=\"#ArialMT-50\"/>\n       <use x=\"55.615234\" xlink:href=\"#ArialMT-48\"/>\n       <use x=\"111.230469\" xlink:href=\"#ArialMT-49\"/>\n       <use x=\"166.845703\" xlink:href=\"#ArialMT-51\"/>\n       <use x=\"222.460938\" xlink:href=\"#ArialMT-45\"/>\n       <use x=\"255.761719\" xlink:href=\"#ArialMT-81\"/>\n       <use x=\"333.544922\" xlink:href=\"#ArialMT-50\"/>\n      </g>\n     </g>\n    </g>\n    <g id=\"xtick_15\">\n     <g id=\"line2d_15\">\n      <path clip-path=\"url(#p56dd41812b)\" d=\"M 172.955852 224.64 \nL 172.955852 7.2 \n\" style=\"fill:none;stroke:#cccccc;stroke-linecap:round;\"/>\n     </g>\n     <g id=\"text_15\">\n      <!-- 2013-Q3 -->\n      <g style=\"fill:#262626;\" transform=\"translate(151.553977 242.013594)scale(0.11 -0.11)\">\n       <use xlink:href=\"#ArialMT-50\"/>\n       <use x=\"55.615234\" xlink:href=\"#ArialMT-48\"/>\n       <use x=\"111.230469\" xlink:href=\"#ArialMT-49\"/>\n       <use x=\"166.845703\" xlink:href=\"#ArialMT-51\"/>\n       <use x=\"222.460938\" xlink:href=\"#ArialMT-45\"/>\n       <use x=\"255.761719\" xlink:href=\"#ArialMT-81\"/>\n       <use x=\"333.544922\" xlink:href=\"#ArialMT-51\"/>\n      </g>\n     </g>\n    </g>\n    <g id=\"xtick_16\">\n     <g id=\"line2d_16\">\n      <path clip-path=\"url(#p56dd41812b)\" d=\"M 180.202606 224.64 \nL 180.202606 7.2 \n\" style=\"fill:none;stroke:#cccccc;stroke-linecap:round;\"/>\n     </g>\n     <g id=\"text_16\">\n      <!-- 2013-Q4 -->\n      <g style=\"fill:#262626;\" transform=\"translate(158.800731 242.013594)scale(0.11 -0.11)\">\n       <use xlink:href=\"#ArialMT-50\"/>\n       <use x=\"55.615234\" xlink:href=\"#ArialMT-48\"/>\n       <use x=\"111.230469\" xlink:href=\"#ArialMT-49\"/>\n       <use x=\"166.845703\" xlink:href=\"#ArialMT-51\"/>\n       <use x=\"222.460938\" xlink:href=\"#ArialMT-45\"/>\n       <use x=\"255.761719\" xlink:href=\"#ArialMT-81\"/>\n       <use x=\"333.544922\" xlink:href=\"#ArialMT-52\"/>\n      </g>\n     </g>\n    </g>\n    <g id=\"xtick_17\">\n     <g id=\"line2d_17\">\n      <path clip-path=\"url(#p56dd41812b)\" d=\"M 187.449359 224.64 \nL 187.449359 7.2 \n\" style=\"fill:none;stroke:#cccccc;stroke-linecap:round;\"/>\n     </g>\n     <g id=\"text_17\">\n      <!-- 2014-Q1 -->\n      <g style=\"fill:#262626;\" transform=\"translate(166.047484 242.013594)scale(0.11 -0.11)\">\n       <use xlink:href=\"#ArialMT-50\"/>\n       <use x=\"55.615234\" xlink:href=\"#ArialMT-48\"/>\n       <use x=\"111.230469\" xlink:href=\"#ArialMT-49\"/>\n       <use x=\"166.845703\" xlink:href=\"#ArialMT-52\"/>\n       <use x=\"222.460938\" xlink:href=\"#ArialMT-45\"/>\n       <use x=\"255.761719\" xlink:href=\"#ArialMT-81\"/>\n       <use x=\"333.544922\" xlink:href=\"#ArialMT-49\"/>\n      </g>\n     </g>\n    </g>\n    <g id=\"xtick_18\">\n     <g id=\"line2d_18\">\n      <path clip-path=\"url(#p56dd41812b)\" d=\"M 194.696112 224.64 \nL 194.696112 7.2 \n\" style=\"fill:none;stroke:#cccccc;stroke-linecap:round;\"/>\n     </g>\n     <g id=\"text_18\">\n      <!-- 2014-Q2 -->\n      <g style=\"fill:#262626;\" transform=\"translate(173.294237 242.013594)scale(0.11 -0.11)\">\n       <use xlink:href=\"#ArialMT-50\"/>\n       <use x=\"55.615234\" xlink:href=\"#ArialMT-48\"/>\n       <use x=\"111.230469\" xlink:href=\"#ArialMT-49\"/>\n       <use x=\"166.845703\" xlink:href=\"#ArialMT-52\"/>\n       <use x=\"222.460938\" xlink:href=\"#ArialMT-45\"/>\n       <use x=\"255.761719\" xlink:href=\"#ArialMT-81\"/>\n       <use x=\"333.544922\" xlink:href=\"#ArialMT-50\"/>\n      </g>\n     </g>\n    </g>\n    <g id=\"xtick_19\">\n     <g id=\"line2d_19\">\n      <path clip-path=\"url(#p56dd41812b)\" d=\"M 201.942865 224.64 \nL 201.942865 7.2 \n\" style=\"fill:none;stroke:#cccccc;stroke-linecap:round;\"/>\n     </g>\n     <g id=\"text_19\">\n      <!-- 2014-Q3 -->\n      <g style=\"fill:#262626;\" transform=\"translate(180.54099 242.013594)scale(0.11 -0.11)\">\n       <use xlink:href=\"#ArialMT-50\"/>\n       <use x=\"55.615234\" xlink:href=\"#ArialMT-48\"/>\n       <use x=\"111.230469\" xlink:href=\"#ArialMT-49\"/>\n       <use x=\"166.845703\" xlink:href=\"#ArialMT-52\"/>\n       <use x=\"222.460938\" xlink:href=\"#ArialMT-45\"/>\n       <use x=\"255.761719\" xlink:href=\"#ArialMT-81\"/>\n       <use x=\"333.544922\" xlink:href=\"#ArialMT-51\"/>\n      </g>\n     </g>\n    </g>\n    <g id=\"xtick_20\">\n     <g id=\"line2d_20\">\n      <path clip-path=\"url(#p56dd41812b)\" d=\"M 209.189619 224.64 \nL 209.189619 7.2 \n\" style=\"fill:none;stroke:#cccccc;stroke-linecap:round;\"/>\n     </g>\n     <g id=\"text_20\">\n      <!-- 2014-Q4 -->\n      <g style=\"fill:#262626;\" transform=\"translate(187.787744 242.013594)scale(0.11 -0.11)\">\n       <use xlink:href=\"#ArialMT-50\"/>\n       <use x=\"55.615234\" xlink:href=\"#ArialMT-48\"/>\n       <use x=\"111.230469\" xlink:href=\"#ArialMT-49\"/>\n       <use x=\"166.845703\" xlink:href=\"#ArialMT-52\"/>\n       <use x=\"222.460938\" xlink:href=\"#ArialMT-45\"/>\n       <use x=\"255.761719\" xlink:href=\"#ArialMT-81\"/>\n       <use x=\"333.544922\" xlink:href=\"#ArialMT-52\"/>\n      </g>\n     </g>\n    </g>\n    <g id=\"xtick_21\">\n     <g id=\"line2d_21\">\n      <path clip-path=\"url(#p56dd41812b)\" d=\"M 216.436372 224.64 \nL 216.436372 7.2 \n\" style=\"fill:none;stroke:#cccccc;stroke-linecap:round;\"/>\n     </g>\n     <g id=\"text_21\">\n      <!-- 2015-Q1 -->\n      <defs>\n       <path d=\"M 4.15625 18.75 \nL 13.375 19.53125 \nQ 14.40625 12.796875 18.140625 9.390625 \nQ 21.875 6 27.15625 6 \nQ 33.5 6 37.890625 10.78125 \nQ 42.28125 15.578125 42.28125 23.484375 \nQ 42.28125 31 38.0625 35.34375 \nQ 33.84375 39.703125 27 39.703125 \nQ 22.75 39.703125 19.328125 37.765625 \nQ 15.921875 35.84375 13.96875 32.765625 \nL 5.71875 33.84375 \nL 12.640625 70.609375 \nL 48.25 70.609375 \nL 48.25 62.203125 \nL 19.671875 62.203125 \nL 15.828125 42.96875 \nQ 22.265625 47.46875 29.34375 47.46875 \nQ 38.71875 47.46875 45.15625 40.96875 \nQ 51.609375 34.46875 51.609375 24.265625 \nQ 51.609375 14.546875 45.953125 7.46875 \nQ 39.0625 -1.21875 27.15625 -1.21875 \nQ 17.390625 -1.21875 11.203125 4.25 \nQ 5.03125 9.71875 4.15625 18.75 \nz\n\" id=\"ArialMT-53\"/>\n      </defs>\n      <g style=\"fill:#262626;\" transform=\"translate(195.034497 242.013594)scale(0.11 -0.11)\">\n       <use xlink:href=\"#ArialMT-50\"/>\n       <use x=\"55.615234\" xlink:href=\"#ArialMT-48\"/>\n       <use x=\"111.230469\" xlink:href=\"#ArialMT-49\"/>\n       <use x=\"166.845703\" xlink:href=\"#ArialMT-53\"/>\n       <use x=\"222.460938\" xlink:href=\"#ArialMT-45\"/>\n       <use x=\"255.761719\" xlink:href=\"#ArialMT-81\"/>\n       <use x=\"333.544922\" xlink:href=\"#ArialMT-49\"/>\n      </g>\n     </g>\n    </g>\n    <g id=\"xtick_22\">\n     <g id=\"line2d_22\">\n      <path clip-path=\"url(#p56dd41812b)\" d=\"M 223.683125 224.64 \nL 223.683125 7.2 \n\" style=\"fill:none;stroke:#cccccc;stroke-linecap:round;\"/>\n     </g>\n     <g id=\"text_22\">\n      <!-- 2015-Q2 -->\n      <g style=\"fill:#262626;\" transform=\"translate(202.28125 242.013594)scale(0.11 -0.11)\">\n       <use xlink:href=\"#ArialMT-50\"/>\n       <use x=\"55.615234\" xlink:href=\"#ArialMT-48\"/>\n       <use x=\"111.230469\" xlink:href=\"#ArialMT-49\"/>\n       <use x=\"166.845703\" xlink:href=\"#ArialMT-53\"/>\n       <use x=\"222.460938\" xlink:href=\"#ArialMT-45\"/>\n       <use x=\"255.761719\" xlink:href=\"#ArialMT-81\"/>\n       <use x=\"333.544922\" xlink:href=\"#ArialMT-50\"/>\n      </g>\n     </g>\n    </g>\n    <g id=\"xtick_23\">\n     <g id=\"line2d_23\">\n      <path clip-path=\"url(#p56dd41812b)\" d=\"M 230.929878 224.64 \nL 230.929878 7.2 \n\" style=\"fill:none;stroke:#cccccc;stroke-linecap:round;\"/>\n     </g>\n     <g id=\"text_23\">\n      <!-- 2015-Q3 -->\n      <g style=\"fill:#262626;\" transform=\"translate(209.528003 242.013594)scale(0.11 -0.11)\">\n       <use xlink:href=\"#ArialMT-50\"/>\n       <use x=\"55.615234\" xlink:href=\"#ArialMT-48\"/>\n       <use x=\"111.230469\" xlink:href=\"#ArialMT-49\"/>\n       <use x=\"166.845703\" xlink:href=\"#ArialMT-53\"/>\n       <use x=\"222.460938\" xlink:href=\"#ArialMT-45\"/>\n       <use x=\"255.761719\" xlink:href=\"#ArialMT-81\"/>\n       <use x=\"333.544922\" xlink:href=\"#ArialMT-51\"/>\n      </g>\n     </g>\n    </g>\n    <g id=\"xtick_24\">\n     <g id=\"line2d_24\">\n      <path clip-path=\"url(#p56dd41812b)\" d=\"M 238.176631 224.64 \nL 238.176631 7.2 \n\" style=\"fill:none;stroke:#cccccc;stroke-linecap:round;\"/>\n     </g>\n     <g id=\"text_24\">\n      <!-- 2015-Q4 -->\n      <g style=\"fill:#262626;\" transform=\"translate(216.774756 242.013594)scale(0.11 -0.11)\">\n       <use xlink:href=\"#ArialMT-50\"/>\n       <use x=\"55.615234\" xlink:href=\"#ArialMT-48\"/>\n       <use x=\"111.230469\" xlink:href=\"#ArialMT-49\"/>\n       <use x=\"166.845703\" xlink:href=\"#ArialMT-53\"/>\n       <use x=\"222.460938\" xlink:href=\"#ArialMT-45\"/>\n       <use x=\"255.761719\" xlink:href=\"#ArialMT-81\"/>\n       <use x=\"333.544922\" xlink:href=\"#ArialMT-52\"/>\n      </g>\n     </g>\n    </g>\n    <g id=\"xtick_25\">\n     <g id=\"line2d_25\">\n      <path clip-path=\"url(#p56dd41812b)\" d=\"M 245.423385 224.64 \nL 245.423385 7.2 \n\" style=\"fill:none;stroke:#cccccc;stroke-linecap:round;\"/>\n     </g>\n     <g id=\"text_25\">\n      <!-- 2016-Q1 -->\n      <defs>\n       <path d=\"M 49.75 54.046875 \nL 41.015625 53.375 \nQ 39.84375 58.546875 37.703125 60.890625 \nQ 34.125 64.65625 28.90625 64.65625 \nQ 24.703125 64.65625 21.53125 62.3125 \nQ 17.390625 59.28125 14.984375 53.46875 \nQ 12.59375 47.65625 12.5 36.921875 \nQ 15.671875 41.75 20.265625 44.09375 \nQ 24.859375 46.4375 29.890625 46.4375 \nQ 38.671875 46.4375 44.84375 39.96875 \nQ 51.03125 33.5 51.03125 23.25 \nQ 51.03125 16.5 48.125 10.71875 \nQ 45.21875 4.9375 40.140625 1.859375 \nQ 35.0625 -1.21875 28.609375 -1.21875 \nQ 17.625 -1.21875 10.6875 6.859375 \nQ 3.765625 14.9375 3.765625 33.5 \nQ 3.765625 54.25 11.421875 63.671875 \nQ 18.109375 71.875 29.4375 71.875 \nQ 37.890625 71.875 43.28125 67.140625 \nQ 48.6875 62.40625 49.75 54.046875 \nz\nM 13.875 23.1875 \nQ 13.875 18.65625 15.796875 14.5 \nQ 17.71875 10.359375 21.1875 8.171875 \nQ 24.65625 6 28.46875 6 \nQ 34.03125 6 38.03125 10.484375 \nQ 42.046875 14.984375 42.046875 22.703125 \nQ 42.046875 30.125 38.078125 34.390625 \nQ 34.125 38.671875 28.125 38.671875 \nQ 22.171875 38.671875 18.015625 34.390625 \nQ 13.875 30.125 13.875 23.1875 \nz\n\" id=\"ArialMT-54\"/>\n      </defs>\n      <g style=\"fill:#262626;\" transform=\"translate(224.02151 242.013594)scale(0.11 -0.11)\">\n       <use xlink:href=\"#ArialMT-50\"/>\n       <use x=\"55.615234\" xlink:href=\"#ArialMT-48\"/>\n       <use x=\"111.230469\" xlink:href=\"#ArialMT-49\"/>\n       <use x=\"166.845703\" xlink:href=\"#ArialMT-54\"/>\n       <use x=\"222.460938\" xlink:href=\"#ArialMT-45\"/>\n       <use x=\"255.761719\" xlink:href=\"#ArialMT-81\"/>\n       <use x=\"333.544922\" xlink:href=\"#ArialMT-49\"/>\n      </g>\n     </g>\n    </g>\n    <g id=\"xtick_26\">\n     <g id=\"line2d_26\">\n      <path clip-path=\"url(#p56dd41812b)\" d=\"M 252.670138 224.64 \nL 252.670138 7.2 \n\" style=\"fill:none;stroke:#cccccc;stroke-linecap:round;\"/>\n     </g>\n     <g id=\"text_26\">\n      <!-- 2016-Q2 -->\n      <g style=\"fill:#262626;\" transform=\"translate(231.268263 242.013594)scale(0.11 -0.11)\">\n       <use xlink:href=\"#ArialMT-50\"/>\n       <use x=\"55.615234\" xlink:href=\"#ArialMT-48\"/>\n       <use x=\"111.230469\" xlink:href=\"#ArialMT-49\"/>\n       <use x=\"166.845703\" xlink:href=\"#ArialMT-54\"/>\n       <use x=\"222.460938\" xlink:href=\"#ArialMT-45\"/>\n       <use x=\"255.761719\" xlink:href=\"#ArialMT-81\"/>\n       <use x=\"333.544922\" xlink:href=\"#ArialMT-50\"/>\n      </g>\n     </g>\n    </g>\n    <g id=\"xtick_27\">\n     <g id=\"line2d_27\">\n      <path clip-path=\"url(#p56dd41812b)\" d=\"M 259.916891 224.64 \nL 259.916891 7.2 \n\" style=\"fill:none;stroke:#cccccc;stroke-linecap:round;\"/>\n     </g>\n     <g id=\"text_27\">\n      <!-- 2016-Q3 -->\n      <g style=\"fill:#262626;\" transform=\"translate(238.515016 242.013594)scale(0.11 -0.11)\">\n       <use xlink:href=\"#ArialMT-50\"/>\n       <use x=\"55.615234\" xlink:href=\"#ArialMT-48\"/>\n       <use x=\"111.230469\" xlink:href=\"#ArialMT-49\"/>\n       <use x=\"166.845703\" xlink:href=\"#ArialMT-54\"/>\n       <use x=\"222.460938\" xlink:href=\"#ArialMT-45\"/>\n       <use x=\"255.761719\" xlink:href=\"#ArialMT-81\"/>\n       <use x=\"333.544922\" xlink:href=\"#ArialMT-51\"/>\n      </g>\n     </g>\n    </g>\n    <g id=\"xtick_28\">\n     <g id=\"line2d_28\">\n      <path clip-path=\"url(#p56dd41812b)\" d=\"M 267.163644 224.64 \nL 267.163644 7.2 \n\" style=\"fill:none;stroke:#cccccc;stroke-linecap:round;\"/>\n     </g>\n     <g id=\"text_28\">\n      <!-- 2016-Q4 -->\n      <g style=\"fill:#262626;\" transform=\"translate(245.761769 242.013594)scale(0.11 -0.11)\">\n       <use xlink:href=\"#ArialMT-50\"/>\n       <use x=\"55.615234\" xlink:href=\"#ArialMT-48\"/>\n       <use x=\"111.230469\" xlink:href=\"#ArialMT-49\"/>\n       <use x=\"166.845703\" xlink:href=\"#ArialMT-54\"/>\n       <use x=\"222.460938\" xlink:href=\"#ArialMT-45\"/>\n       <use x=\"255.761719\" xlink:href=\"#ArialMT-81\"/>\n       <use x=\"333.544922\" xlink:href=\"#ArialMT-52\"/>\n      </g>\n     </g>\n    </g>\n    <g id=\"xtick_29\">\n     <g id=\"line2d_29\">\n      <path clip-path=\"url(#p56dd41812b)\" d=\"M 274.410398 224.64 \nL 274.410398 7.2 \n\" style=\"fill:none;stroke:#cccccc;stroke-linecap:round;\"/>\n     </g>\n     <g id=\"text_29\">\n      <!-- 2017-Q1 -->\n      <defs>\n       <path d=\"M 4.734375 62.203125 \nL 4.734375 70.65625 \nL 51.078125 70.65625 \nL 51.078125 63.8125 \nQ 44.234375 56.546875 37.515625 44.484375 \nQ 30.8125 32.421875 27.15625 19.671875 \nQ 24.515625 10.6875 23.78125 0 \nL 14.75 0 \nQ 14.890625 8.453125 18.0625 20.40625 \nQ 21.234375 32.375 27.171875 43.484375 \nQ 33.109375 54.59375 39.796875 62.203125 \nz\n\" id=\"ArialMT-55\"/>\n      </defs>\n      <g style=\"fill:#262626;\" transform=\"translate(253.008523 242.013594)scale(0.11 -0.11)\">\n       <use xlink:href=\"#ArialMT-50\"/>\n       <use x=\"55.615234\" xlink:href=\"#ArialMT-48\"/>\n       <use x=\"111.230469\" xlink:href=\"#ArialMT-49\"/>\n       <use x=\"166.845703\" xlink:href=\"#ArialMT-55\"/>\n       <use x=\"222.460938\" xlink:href=\"#ArialMT-45\"/>\n       <use x=\"255.761719\" xlink:href=\"#ArialMT-81\"/>\n       <use x=\"333.544922\" xlink:href=\"#ArialMT-49\"/>\n      </g>\n     </g>\n    </g>\n    <g id=\"xtick_30\">\n     <g id=\"line2d_30\">\n      <path clip-path=\"url(#p56dd41812b)\" d=\"M 281.657151 224.64 \nL 281.657151 7.2 \n\" style=\"fill:none;stroke:#cccccc;stroke-linecap:round;\"/>\n     </g>\n     <g id=\"text_30\">\n      <!-- 2017-Q2 -->\n      <g style=\"fill:#262626;\" transform=\"translate(260.255276 242.013594)scale(0.11 -0.11)\">\n       <use xlink:href=\"#ArialMT-50\"/>\n       <use x=\"55.615234\" xlink:href=\"#ArialMT-48\"/>\n       <use x=\"111.230469\" xlink:href=\"#ArialMT-49\"/>\n       <use x=\"166.845703\" xlink:href=\"#ArialMT-55\"/>\n       <use x=\"222.460938\" xlink:href=\"#ArialMT-45\"/>\n       <use x=\"255.761719\" xlink:href=\"#ArialMT-81\"/>\n       <use x=\"333.544922\" xlink:href=\"#ArialMT-50\"/>\n      </g>\n     </g>\n    </g>\n    <g id=\"xtick_31\">\n     <g id=\"line2d_31\">\n      <path clip-path=\"url(#p56dd41812b)\" d=\"M 288.903904 224.64 \nL 288.903904 7.2 \n\" style=\"fill:none;stroke:#cccccc;stroke-linecap:round;\"/>\n     </g>\n     <g id=\"text_31\">\n      <!-- 2017-Q3 -->\n      <g style=\"fill:#262626;\" transform=\"translate(267.502029 242.013594)scale(0.11 -0.11)\">\n       <use xlink:href=\"#ArialMT-50\"/>\n       <use x=\"55.615234\" xlink:href=\"#ArialMT-48\"/>\n       <use x=\"111.230469\" xlink:href=\"#ArialMT-49\"/>\n       <use x=\"166.845703\" xlink:href=\"#ArialMT-55\"/>\n       <use x=\"222.460938\" xlink:href=\"#ArialMT-45\"/>\n       <use x=\"255.761719\" xlink:href=\"#ArialMT-81\"/>\n       <use x=\"333.544922\" xlink:href=\"#ArialMT-51\"/>\n      </g>\n     </g>\n    </g>\n    <g id=\"xtick_32\">\n     <g id=\"line2d_32\">\n      <path clip-path=\"url(#p56dd41812b)\" d=\"M 296.150657 224.64 \nL 296.150657 7.2 \n\" style=\"fill:none;stroke:#cccccc;stroke-linecap:round;\"/>\n     </g>\n     <g id=\"text_32\">\n      <!-- 2017-Q4 -->\n      <g style=\"fill:#262626;\" transform=\"translate(274.748782 242.013594)scale(0.11 -0.11)\">\n       <use xlink:href=\"#ArialMT-50\"/>\n       <use x=\"55.615234\" xlink:href=\"#ArialMT-48\"/>\n       <use x=\"111.230469\" xlink:href=\"#ArialMT-49\"/>\n       <use x=\"166.845703\" xlink:href=\"#ArialMT-55\"/>\n       <use x=\"222.460938\" xlink:href=\"#ArialMT-45\"/>\n       <use x=\"255.761719\" xlink:href=\"#ArialMT-81\"/>\n       <use x=\"333.544922\" xlink:href=\"#ArialMT-52\"/>\n      </g>\n     </g>\n    </g>\n    <g id=\"xtick_33\">\n     <g id=\"line2d_33\">\n      <path clip-path=\"url(#p56dd41812b)\" d=\"M 303.397411 224.64 \nL 303.397411 7.2 \n\" style=\"fill:none;stroke:#cccccc;stroke-linecap:round;\"/>\n     </g>\n     <g id=\"text_33\">\n      <!-- 2018-Q1 -->\n      <defs>\n       <path d=\"M 17.671875 38.8125 \nQ 12.203125 40.828125 9.5625 44.53125 \nQ 6.9375 48.25 6.9375 53.421875 \nQ 6.9375 61.234375 12.546875 66.546875 \nQ 18.171875 71.875 27.484375 71.875 \nQ 36.859375 71.875 42.578125 66.421875 \nQ 48.296875 60.984375 48.296875 53.171875 \nQ 48.296875 48.1875 45.671875 44.5 \nQ 43.0625 40.828125 37.75 38.8125 \nQ 44.34375 36.671875 47.78125 31.875 \nQ 51.21875 27.09375 51.21875 20.453125 \nQ 51.21875 11.28125 44.71875 5.03125 \nQ 38.234375 -1.21875 27.640625 -1.21875 \nQ 17.046875 -1.21875 10.546875 5.046875 \nQ 4.046875 11.328125 4.046875 20.703125 \nQ 4.046875 27.6875 7.59375 32.390625 \nQ 11.140625 37.109375 17.671875 38.8125 \nz\nM 15.921875 53.71875 \nQ 15.921875 48.640625 19.1875 45.40625 \nQ 22.46875 42.1875 27.6875 42.1875 \nQ 32.765625 42.1875 36.015625 45.375 \nQ 39.265625 48.578125 39.265625 53.21875 \nQ 39.265625 58.0625 35.90625 61.359375 \nQ 32.5625 64.65625 27.59375 64.65625 \nQ 22.5625 64.65625 19.234375 61.421875 \nQ 15.921875 58.203125 15.921875 53.71875 \nz\nM 13.09375 20.65625 \nQ 13.09375 16.890625 14.875 13.375 \nQ 16.65625 9.859375 20.171875 7.921875 \nQ 23.6875 6 27.734375 6 \nQ 34.03125 6 38.125 10.046875 \nQ 42.234375 14.109375 42.234375 20.359375 \nQ 42.234375 26.703125 38.015625 30.859375 \nQ 33.796875 35.015625 27.4375 35.015625 \nQ 21.234375 35.015625 17.15625 30.90625 \nQ 13.09375 26.8125 13.09375 20.65625 \nz\n\" id=\"ArialMT-56\"/>\n      </defs>\n      <g style=\"fill:#262626;\" transform=\"translate(281.995536 242.013594)scale(0.11 -0.11)\">\n       <use xlink:href=\"#ArialMT-50\"/>\n       <use x=\"55.615234\" xlink:href=\"#ArialMT-48\"/>\n       <use x=\"111.230469\" xlink:href=\"#ArialMT-49\"/>\n       <use x=\"166.845703\" xlink:href=\"#ArialMT-56\"/>\n       <use x=\"222.460938\" xlink:href=\"#ArialMT-45\"/>\n       <use x=\"255.761719\" xlink:href=\"#ArialMT-81\"/>\n       <use x=\"333.544922\" xlink:href=\"#ArialMT-49\"/>\n      </g>\n     </g>\n    </g>\n    <g id=\"xtick_34\">\n     <g id=\"line2d_34\">\n      <path clip-path=\"url(#p56dd41812b)\" d=\"M 310.644164 224.64 \nL 310.644164 7.2 \n\" style=\"fill:none;stroke:#cccccc;stroke-linecap:round;\"/>\n     </g>\n     <g id=\"text_34\">\n      <!-- 2018-Q2 -->\n      <g style=\"fill:#262626;\" transform=\"translate(289.242289 242.013594)scale(0.11 -0.11)\">\n       <use xlink:href=\"#ArialMT-50\"/>\n       <use x=\"55.615234\" xlink:href=\"#ArialMT-48\"/>\n       <use x=\"111.230469\" xlink:href=\"#ArialMT-49\"/>\n       <use x=\"166.845703\" xlink:href=\"#ArialMT-56\"/>\n       <use x=\"222.460938\" xlink:href=\"#ArialMT-45\"/>\n       <use x=\"255.761719\" xlink:href=\"#ArialMT-81\"/>\n       <use x=\"333.544922\" xlink:href=\"#ArialMT-50\"/>\n      </g>\n     </g>\n    </g>\n    <g id=\"xtick_35\">\n     <g id=\"line2d_35\">\n      <path clip-path=\"url(#p56dd41812b)\" d=\"M 317.890917 224.64 \nL 317.890917 7.2 \n\" style=\"fill:none;stroke:#cccccc;stroke-linecap:round;\"/>\n     </g>\n     <g id=\"text_35\">\n      <!-- 2018-Q3 -->\n      <g style=\"fill:#262626;\" transform=\"translate(296.489042 242.013594)scale(0.11 -0.11)\">\n       <use xlink:href=\"#ArialMT-50\"/>\n       <use x=\"55.615234\" xlink:href=\"#ArialMT-48\"/>\n       <use x=\"111.230469\" xlink:href=\"#ArialMT-49\"/>\n       <use x=\"166.845703\" xlink:href=\"#ArialMT-56\"/>\n       <use x=\"222.460938\" xlink:href=\"#ArialMT-45\"/>\n       <use x=\"255.761719\" xlink:href=\"#ArialMT-81\"/>\n       <use x=\"333.544922\" xlink:href=\"#ArialMT-51\"/>\n      </g>\n     </g>\n    </g>\n    <g id=\"xtick_36\">\n     <g id=\"line2d_36\">\n      <path clip-path=\"url(#p56dd41812b)\" d=\"M 325.13767 224.64 \nL 325.13767 7.2 \n\" style=\"fill:none;stroke:#cccccc;stroke-linecap:round;\"/>\n     </g>\n     <g id=\"text_36\">\n      <!-- 2018-Q4 -->\n      <g style=\"fill:#262626;\" transform=\"translate(303.735795 242.013594)scale(0.11 -0.11)\">\n       <use xlink:href=\"#ArialMT-50\"/>\n       <use x=\"55.615234\" xlink:href=\"#ArialMT-48\"/>\n       <use x=\"111.230469\" xlink:href=\"#ArialMT-49\"/>\n       <use x=\"166.845703\" xlink:href=\"#ArialMT-56\"/>\n       <use x=\"222.460938\" xlink:href=\"#ArialMT-45\"/>\n       <use x=\"255.761719\" xlink:href=\"#ArialMT-81\"/>\n       <use x=\"333.544922\" xlink:href=\"#ArialMT-52\"/>\n      </g>\n     </g>\n    </g>\n    <g id=\"xtick_37\">\n     <g id=\"line2d_37\">\n      <path clip-path=\"url(#p56dd41812b)\" d=\"M 332.384424 224.64 \nL 332.384424 7.2 \n\" style=\"fill:none;stroke:#cccccc;stroke-linecap:round;\"/>\n     </g>\n     <g id=\"text_37\">\n      <!-- 2019-Q1 -->\n      <defs>\n       <path d=\"M 5.46875 16.546875 \nL 13.921875 17.328125 \nQ 14.984375 11.375 18.015625 8.6875 \nQ 21.046875 6 25.78125 6 \nQ 29.828125 6 32.875 7.859375 \nQ 35.9375 9.71875 37.890625 12.8125 \nQ 39.84375 15.921875 41.15625 21.1875 \nQ 42.484375 26.46875 42.484375 31.9375 \nQ 42.484375 32.515625 42.4375 33.6875 \nQ 39.796875 29.5 35.234375 26.875 \nQ 30.671875 24.265625 25.34375 24.265625 \nQ 16.453125 24.265625 10.296875 30.703125 \nQ 4.15625 37.15625 4.15625 47.703125 \nQ 4.15625 58.59375 10.578125 65.234375 \nQ 17 71.875 26.65625 71.875 \nQ 33.640625 71.875 39.421875 68.109375 \nQ 45.21875 64.359375 48.21875 57.390625 \nQ 51.21875 50.4375 51.21875 37.25 \nQ 51.21875 23.53125 48.234375 15.40625 \nQ 45.265625 7.28125 39.375 3.03125 \nQ 33.5 -1.21875 25.59375 -1.21875 \nQ 17.1875 -1.21875 11.859375 3.4375 \nQ 6.546875 8.109375 5.46875 16.546875 \nz\nM 41.453125 48.140625 \nQ 41.453125 55.71875 37.421875 60.15625 \nQ 33.40625 64.59375 27.734375 64.59375 \nQ 21.875 64.59375 17.53125 59.8125 \nQ 13.1875 55.03125 13.1875 47.40625 \nQ 13.1875 40.578125 17.3125 36.296875 \nQ 21.4375 32.03125 27.484375 32.03125 \nQ 33.59375 32.03125 37.515625 36.296875 \nQ 41.453125 40.578125 41.453125 48.140625 \nz\n\" id=\"ArialMT-57\"/>\n      </defs>\n      <g style=\"fill:#262626;\" transform=\"translate(310.982549 242.013594)scale(0.11 -0.11)\">\n       <use xlink:href=\"#ArialMT-50\"/>\n       <use x=\"55.615234\" xlink:href=\"#ArialMT-48\"/>\n       <use x=\"111.230469\" xlink:href=\"#ArialMT-49\"/>\n       <use x=\"166.845703\" xlink:href=\"#ArialMT-57\"/>\n       <use x=\"222.460938\" xlink:href=\"#ArialMT-45\"/>\n       <use x=\"255.761719\" xlink:href=\"#ArialMT-81\"/>\n       <use x=\"333.544922\" xlink:href=\"#ArialMT-49\"/>\n      </g>\n     </g>\n    </g>\n    <g id=\"xtick_38\">\n     <g id=\"line2d_38\">\n      <path clip-path=\"url(#p56dd41812b)\" d=\"M 339.631177 224.64 \nL 339.631177 7.2 \n\" style=\"fill:none;stroke:#cccccc;stroke-linecap:round;\"/>\n     </g>\n     <g id=\"text_38\">\n      <!-- 2019-Q2 -->\n      <g style=\"fill:#262626;\" transform=\"translate(318.229302 242.013594)scale(0.11 -0.11)\">\n       <use xlink:href=\"#ArialMT-50\"/>\n       <use x=\"55.615234\" xlink:href=\"#ArialMT-48\"/>\n       <use x=\"111.230469\" xlink:href=\"#ArialMT-49\"/>\n       <use x=\"166.845703\" xlink:href=\"#ArialMT-57\"/>\n       <use x=\"222.460938\" xlink:href=\"#ArialMT-45\"/>\n       <use x=\"255.761719\" xlink:href=\"#ArialMT-81\"/>\n       <use x=\"333.544922\" xlink:href=\"#ArialMT-50\"/>\n      </g>\n     </g>\n    </g>\n    <g id=\"xtick_39\">\n     <g id=\"line2d_39\">\n      <path clip-path=\"url(#p56dd41812b)\" d=\"M 346.87793 224.64 \nL 346.87793 7.2 \n\" style=\"fill:none;stroke:#cccccc;stroke-linecap:round;\"/>\n     </g>\n     <g id=\"text_39\">\n      <!-- 2019-Q3 -->\n      <g style=\"fill:#262626;\" transform=\"translate(325.476055 242.013594)scale(0.11 -0.11)\">\n       <use xlink:href=\"#ArialMT-50\"/>\n       <use x=\"55.615234\" xlink:href=\"#ArialMT-48\"/>\n       <use x=\"111.230469\" xlink:href=\"#ArialMT-49\"/>\n       <use x=\"166.845703\" xlink:href=\"#ArialMT-57\"/>\n       <use x=\"222.460938\" xlink:href=\"#ArialMT-45\"/>\n       <use x=\"255.761719\" xlink:href=\"#ArialMT-81\"/>\n       <use x=\"333.544922\" xlink:href=\"#ArialMT-51\"/>\n      </g>\n     </g>\n    </g>\n    <g id=\"xtick_40\">\n     <g id=\"line2d_40\">\n      <path clip-path=\"url(#p56dd41812b)\" d=\"M 354.124683 224.64 \nL 354.124683 7.2 \n\" style=\"fill:none;stroke:#cccccc;stroke-linecap:round;\"/>\n     </g>\n     <g id=\"text_40\">\n      <!-- 2019-Q4 -->\n      <g style=\"fill:#262626;\" transform=\"translate(332.722808 242.013594)scale(0.11 -0.11)\">\n       <use xlink:href=\"#ArialMT-50\"/>\n       <use x=\"55.615234\" xlink:href=\"#ArialMT-48\"/>\n       <use x=\"111.230469\" xlink:href=\"#ArialMT-49\"/>\n       <use x=\"166.845703\" xlink:href=\"#ArialMT-57\"/>\n       <use x=\"222.460938\" xlink:href=\"#ArialMT-45\"/>\n       <use x=\"255.761719\" xlink:href=\"#ArialMT-81\"/>\n       <use x=\"333.544922\" xlink:href=\"#ArialMT-52\"/>\n      </g>\n     </g>\n    </g>\n    <g id=\"xtick_41\">\n     <g id=\"line2d_41\">\n      <path clip-path=\"url(#p56dd41812b)\" d=\"M 361.371437 224.64 \nL 361.371437 7.2 \n\" style=\"fill:none;stroke:#cccccc;stroke-linecap:round;\"/>\n     </g>\n     <g id=\"text_41\">\n      <!-- 2020-Q1 -->\n      <g style=\"fill:#262626;\" transform=\"translate(339.969562 242.013594)scale(0.11 -0.11)\">\n       <use xlink:href=\"#ArialMT-50\"/>\n       <use x=\"55.615234\" xlink:href=\"#ArialMT-48\"/>\n       <use x=\"111.230469\" xlink:href=\"#ArialMT-50\"/>\n       <use x=\"166.845703\" xlink:href=\"#ArialMT-48\"/>\n       <use x=\"222.460938\" xlink:href=\"#ArialMT-45\"/>\n       <use x=\"255.761719\" xlink:href=\"#ArialMT-81\"/>\n       <use x=\"333.544922\" xlink:href=\"#ArialMT-49\"/>\n      </g>\n     </g>\n    </g>\n    <g id=\"xtick_42\">\n     <g id=\"line2d_42\">\n      <path clip-path=\"url(#p56dd41812b)\" d=\"M 368.61819 224.64 \nL 368.61819 7.2 \n\" style=\"fill:none;stroke:#cccccc;stroke-linecap:round;\"/>\n     </g>\n     <g id=\"text_42\">\n      <!-- 2020-Q3 -->\n      <g style=\"fill:#262626;\" transform=\"translate(347.216315 242.013594)scale(0.11 -0.11)\">\n       <use xlink:href=\"#ArialMT-50\"/>\n       <use x=\"55.615234\" xlink:href=\"#ArialMT-48\"/>\n       <use x=\"111.230469\" xlink:href=\"#ArialMT-50\"/>\n       <use x=\"166.845703\" xlink:href=\"#ArialMT-48\"/>\n       <use x=\"222.460938\" xlink:href=\"#ArialMT-45\"/>\n       <use x=\"255.761719\" xlink:href=\"#ArialMT-81\"/>\n       <use x=\"333.544922\" xlink:href=\"#ArialMT-51\"/>\n      </g>\n     </g>\n    </g>\n    <g id=\"xtick_43\">\n     <g id=\"line2d_43\">\n      <path clip-path=\"url(#p56dd41812b)\" d=\"M 375.864943 224.64 \nL 375.864943 7.2 \n\" style=\"fill:none;stroke:#cccccc;stroke-linecap:round;\"/>\n     </g>\n     <g id=\"text_43\">\n      <!-- 2020-Q4 -->\n      <g style=\"fill:#262626;\" transform=\"translate(354.463068 242.013594)scale(0.11 -0.11)\">\n       <use xlink:href=\"#ArialMT-50\"/>\n       <use x=\"55.615234\" xlink:href=\"#ArialMT-48\"/>\n       <use x=\"111.230469\" xlink:href=\"#ArialMT-50\"/>\n       <use x=\"166.845703\" xlink:href=\"#ArialMT-48\"/>\n       <use x=\"222.460938\" xlink:href=\"#ArialMT-45\"/>\n       <use x=\"255.761719\" xlink:href=\"#ArialMT-81\"/>\n       <use x=\"333.544922\" xlink:href=\"#ArialMT-52\"/>\n      </g>\n     </g>\n    </g>\n    <g id=\"text_44\">\n     <!-- Trimestre -->\n     <defs>\n      <path d=\"M 25.921875 0 \nL 25.921875 63.140625 \nL 2.34375 63.140625 \nL 2.34375 71.578125 \nL 59.078125 71.578125 \nL 59.078125 63.140625 \nL 35.40625 63.140625 \nL 35.40625 0 \nz\n\" id=\"ArialMT-84\"/>\n      <path d=\"M 6.5 0 \nL 6.5 51.859375 \nL 14.40625 51.859375 \nL 14.40625 44 \nQ 17.4375 49.515625 20 51.265625 \nQ 22.5625 53.03125 25.640625 53.03125 \nQ 30.078125 53.03125 34.671875 50.203125 \nL 31.640625 42.046875 \nQ 28.421875 43.953125 25.203125 43.953125 \nQ 22.3125 43.953125 20.015625 42.21875 \nQ 17.71875 40.484375 16.75 37.40625 \nQ 15.28125 32.71875 15.28125 27.15625 \nL 15.28125 0 \nz\n\" id=\"ArialMT-114\"/>\n      <path d=\"M 6.640625 61.46875 \nL 6.640625 71.578125 \nL 15.4375 71.578125 \nL 15.4375 61.46875 \nz\nM 6.640625 0 \nL 6.640625 51.859375 \nL 15.4375 51.859375 \nL 15.4375 0 \nz\n\" id=\"ArialMT-105\"/>\n      <path d=\"M 6.59375 0 \nL 6.59375 51.859375 \nL 14.453125 51.859375 \nL 14.453125 44.578125 \nQ 16.890625 48.390625 20.9375 50.703125 \nQ 25 53.03125 30.171875 53.03125 \nQ 35.9375 53.03125 39.625 50.640625 \nQ 43.3125 48.25 44.828125 43.953125 \nQ 50.984375 53.03125 60.84375 53.03125 \nQ 68.5625 53.03125 72.703125 48.75 \nQ 76.859375 44.484375 76.859375 35.59375 \nL 76.859375 0 \nL 68.109375 0 \nL 68.109375 32.671875 \nQ 68.109375 37.9375 67.25 40.25 \nQ 66.40625 42.578125 64.15625 43.984375 \nQ 61.921875 45.40625 58.890625 45.40625 \nQ 53.421875 45.40625 49.796875 41.765625 \nQ 46.1875 38.140625 46.1875 30.125 \nL 46.1875 0 \nL 37.40625 0 \nL 37.40625 33.6875 \nQ 37.40625 39.546875 35.25 42.46875 \nQ 33.109375 45.40625 28.21875 45.40625 \nQ 24.515625 45.40625 21.359375 43.453125 \nQ 18.21875 41.5 16.796875 37.734375 \nQ 15.375 33.984375 15.375 26.90625 \nL 15.375 0 \nz\n\" id=\"ArialMT-109\"/>\n      <path d=\"M 42.09375 16.703125 \nL 51.171875 15.578125 \nQ 49.03125 7.625 43.21875 3.21875 \nQ 37.40625 -1.171875 28.375 -1.171875 \nQ 17 -1.171875 10.328125 5.828125 \nQ 3.65625 12.84375 3.65625 25.484375 \nQ 3.65625 38.578125 10.390625 45.796875 \nQ 17.140625 53.03125 27.875 53.03125 \nQ 38.28125 53.03125 44.875 45.953125 \nQ 51.46875 38.875 51.46875 26.03125 \nQ 51.46875 25.25 51.421875 23.6875 \nL 12.75 23.6875 \nQ 13.234375 15.140625 17.578125 10.59375 \nQ 21.921875 6.0625 28.421875 6.0625 \nQ 33.25 6.0625 36.671875 8.59375 \nQ 40.09375 11.140625 42.09375 16.703125 \nz\nM 13.234375 30.90625 \nL 42.1875 30.90625 \nQ 41.609375 37.453125 38.875 40.71875 \nQ 34.671875 45.796875 27.984375 45.796875 \nQ 21.921875 45.796875 17.796875 41.75 \nQ 13.671875 37.703125 13.234375 30.90625 \nz\n\" id=\"ArialMT-101\"/>\n      <path d=\"M 3.078125 15.484375 \nL 11.765625 16.84375 \nQ 12.5 11.625 15.84375 8.84375 \nQ 19.1875 6.0625 25.203125 6.0625 \nQ 31.25 6.0625 34.171875 8.515625 \nQ 37.109375 10.984375 37.109375 14.3125 \nQ 37.109375 17.28125 34.515625 19 \nQ 32.71875 20.171875 25.53125 21.96875 \nQ 15.875 24.421875 12.140625 26.203125 \nQ 8.40625 27.984375 6.46875 31.125 \nQ 4.546875 34.28125 4.546875 38.09375 \nQ 4.546875 41.546875 6.125 44.5 \nQ 7.71875 47.46875 10.453125 49.421875 \nQ 12.5 50.921875 16.03125 51.96875 \nQ 19.578125 53.03125 23.640625 53.03125 \nQ 29.734375 53.03125 34.34375 51.265625 \nQ 38.96875 49.515625 41.15625 46.5 \nQ 43.359375 43.5 44.1875 38.484375 \nL 35.59375 37.3125 \nQ 35.015625 41.3125 32.203125 43.546875 \nQ 29.390625 45.796875 24.265625 45.796875 \nQ 18.21875 45.796875 15.625 43.796875 \nQ 13.03125 41.796875 13.03125 39.109375 \nQ 13.03125 37.40625 14.109375 36.03125 \nQ 15.1875 34.625 17.484375 33.6875 \nQ 18.796875 33.203125 25.25 31.453125 \nQ 34.578125 28.953125 38.25 27.359375 \nQ 41.9375 25.78125 44.03125 22.75 \nQ 46.140625 19.734375 46.140625 15.234375 \nQ 46.140625 10.84375 43.578125 6.953125 \nQ 41.015625 3.078125 36.171875 0.953125 \nQ 31.34375 -1.171875 25.25 -1.171875 \nQ 15.140625 -1.171875 9.84375 3.03125 \nQ 4.546875 7.234375 3.078125 15.484375 \nz\n\" id=\"ArialMT-115\"/>\n      <path d=\"M 25.78125 7.859375 \nL 27.046875 0.09375 \nQ 23.34375 -0.6875 20.40625 -0.6875 \nQ 15.625 -0.6875 12.984375 0.828125 \nQ 10.359375 2.34375 9.28125 4.8125 \nQ 8.203125 7.28125 8.203125 15.1875 \nL 8.203125 45.015625 \nL 1.765625 45.015625 \nL 1.765625 51.859375 \nL 8.203125 51.859375 \nL 8.203125 64.703125 \nL 16.9375 69.96875 \nL 16.9375 51.859375 \nL 25.78125 51.859375 \nL 25.78125 45.015625 \nL 16.9375 45.015625 \nL 16.9375 14.703125 \nQ 16.9375 10.9375 17.40625 9.859375 \nQ 17.875 8.796875 18.921875 8.15625 \nQ 19.96875 7.515625 21.921875 7.515625 \nQ 23.390625 7.515625 25.78125 7.859375 \nz\n\" id=\"ArialMT-116\"/>\n     </defs>\n     <g style=\"fill:#262626;\" transform=\"translate(198.576875 256.789219)scale(0.12 -0.12)\">\n      <use xlink:href=\"#ArialMT-84\"/>\n      <use x=\"57.333984\" xlink:href=\"#ArialMT-114\"/>\n      <use x=\"90.634766\" xlink:href=\"#ArialMT-105\"/>\n      <use x=\"112.851562\" xlink:href=\"#ArialMT-109\"/>\n      <use x=\"196.152344\" xlink:href=\"#ArialMT-101\"/>\n      <use x=\"251.767578\" xlink:href=\"#ArialMT-115\"/>\n      <use x=\"301.767578\" xlink:href=\"#ArialMT-116\"/>\n      <use x=\"329.550781\" xlink:href=\"#ArialMT-114\"/>\n      <use x=\"362.851562\" xlink:href=\"#ArialMT-101\"/>\n     </g>\n    </g>\n   </g>\n   <g id=\"matplotlib.axis_2\">\n    <g id=\"ytick_1\">\n     <g id=\"line2d_44\">\n      <path clip-path=\"url(#p56dd41812b)\" d=\"M 56.283125 205.800043 \nL 391.083125 205.800043 \n\" style=\"fill:none;stroke:#cccccc;stroke-linecap:round;\"/>\n     </g>\n     <g id=\"text_45\">\n      <!-- 2500 -->\n      <g style=\"fill:#262626;\" transform=\"translate(22.315 209.73684)scale(0.11 -0.11)\">\n       <use xlink:href=\"#ArialMT-50\"/>\n       <use x=\"55.615234\" xlink:href=\"#ArialMT-53\"/>\n       <use x=\"111.230469\" xlink:href=\"#ArialMT-48\"/>\n       <use x=\"166.845703\" xlink:href=\"#ArialMT-48\"/>\n      </g>\n     </g>\n    </g>\n    <g id=\"ytick_2\">\n     <g id=\"line2d_45\">\n      <path clip-path=\"url(#p56dd41812b)\" d=\"M 56.283125 171.133137 \nL 391.083125 171.133137 \n\" style=\"fill:none;stroke:#cccccc;stroke-linecap:round;\"/>\n     </g>\n     <g id=\"text_46\">\n      <!-- 3000 -->\n      <g style=\"fill:#262626;\" transform=\"translate(22.315 175.069934)scale(0.11 -0.11)\">\n       <use xlink:href=\"#ArialMT-51\"/>\n       <use x=\"55.615234\" xlink:href=\"#ArialMT-48\"/>\n       <use x=\"111.230469\" xlink:href=\"#ArialMT-48\"/>\n       <use x=\"166.845703\" xlink:href=\"#ArialMT-48\"/>\n      </g>\n     </g>\n    </g>\n    <g id=\"ytick_3\">\n     <g id=\"line2d_46\">\n      <path clip-path=\"url(#p56dd41812b)\" d=\"M 56.283125 136.46623 \nL 391.083125 136.46623 \n\" style=\"fill:none;stroke:#cccccc;stroke-linecap:round;\"/>\n     </g>\n     <g id=\"text_47\">\n      <!-- 3500 -->\n      <g style=\"fill:#262626;\" transform=\"translate(22.315 140.403027)scale(0.11 -0.11)\">\n       <use xlink:href=\"#ArialMT-51\"/>\n       <use x=\"55.615234\" xlink:href=\"#ArialMT-53\"/>\n       <use x=\"111.230469\" xlink:href=\"#ArialMT-48\"/>\n       <use x=\"166.845703\" xlink:href=\"#ArialMT-48\"/>\n      </g>\n     </g>\n    </g>\n    <g id=\"ytick_4\">\n     <g id=\"line2d_47\">\n      <path clip-path=\"url(#p56dd41812b)\" d=\"M 56.283125 101.799324 \nL 391.083125 101.799324 \n\" style=\"fill:none;stroke:#cccccc;stroke-linecap:round;\"/>\n     </g>\n     <g id=\"text_48\">\n      <!-- 4000 -->\n      <g style=\"fill:#262626;\" transform=\"translate(22.315 105.736121)scale(0.11 -0.11)\">\n       <use xlink:href=\"#ArialMT-52\"/>\n       <use x=\"55.615234\" xlink:href=\"#ArialMT-48\"/>\n       <use x=\"111.230469\" xlink:href=\"#ArialMT-48\"/>\n       <use x=\"166.845703\" xlink:href=\"#ArialMT-48\"/>\n      </g>\n     </g>\n    </g>\n    <g id=\"ytick_5\">\n     <g id=\"line2d_48\">\n      <path clip-path=\"url(#p56dd41812b)\" d=\"M 56.283125 67.132418 \nL 391.083125 67.132418 \n\" style=\"fill:none;stroke:#cccccc;stroke-linecap:round;\"/>\n     </g>\n     <g id=\"text_49\">\n      <!-- 4500 -->\n      <g style=\"fill:#262626;\" transform=\"translate(22.315 71.069215)scale(0.11 -0.11)\">\n       <use xlink:href=\"#ArialMT-52\"/>\n       <use x=\"55.615234\" xlink:href=\"#ArialMT-53\"/>\n       <use x=\"111.230469\" xlink:href=\"#ArialMT-48\"/>\n       <use x=\"166.845703\" xlink:href=\"#ArialMT-48\"/>\n      </g>\n     </g>\n    </g>\n    <g id=\"ytick_6\">\n     <g id=\"line2d_49\">\n      <path clip-path=\"url(#p56dd41812b)\" d=\"M 56.283125 32.465512 \nL 391.083125 32.465512 \n\" style=\"fill:none;stroke:#cccccc;stroke-linecap:round;\"/>\n     </g>\n     <g id=\"text_50\">\n      <!-- 5000 -->\n      <g style=\"fill:#262626;\" transform=\"translate(22.315 36.402308)scale(0.11 -0.11)\">\n       <use xlink:href=\"#ArialMT-53\"/>\n       <use x=\"55.615234\" xlink:href=\"#ArialMT-48\"/>\n       <use x=\"111.230469\" xlink:href=\"#ArialMT-48\"/>\n       <use x=\"166.845703\" xlink:href=\"#ArialMT-48\"/>\n      </g>\n     </g>\n    </g>\n    <g id=\"text_51\">\n     <!-- Mujer -->\n     <defs>\n      <path d=\"M 7.421875 0 \nL 7.421875 71.578125 \nL 21.6875 71.578125 \nL 38.625 20.90625 \nQ 40.96875 13.8125 42.046875 10.296875 \nQ 43.265625 14.203125 45.84375 21.78125 \nL 62.984375 71.578125 \nL 75.734375 71.578125 \nL 75.734375 0 \nL 66.609375 0 \nL 66.609375 59.90625 \nL 45.796875 0 \nL 37.25 0 \nL 16.546875 60.9375 \nL 16.546875 0 \nz\n\" id=\"ArialMT-77\"/>\n      <path d=\"M 40.578125 0 \nL 40.578125 7.625 \nQ 34.515625 -1.171875 24.125 -1.171875 \nQ 19.53125 -1.171875 15.546875 0.578125 \nQ 11.578125 2.34375 9.640625 5 \nQ 7.71875 7.671875 6.9375 11.53125 \nQ 6.390625 14.109375 6.390625 19.734375 \nL 6.390625 51.859375 \nL 15.1875 51.859375 \nL 15.1875 23.09375 \nQ 15.1875 16.21875 15.71875 13.8125 \nQ 16.546875 10.359375 19.234375 8.375 \nQ 21.921875 6.390625 25.875 6.390625 \nQ 29.828125 6.390625 33.296875 8.421875 \nQ 36.765625 10.453125 38.203125 13.9375 \nQ 39.65625 17.4375 39.65625 24.078125 \nL 39.65625 51.859375 \nL 48.4375 51.859375 \nL 48.4375 0 \nz\n\" id=\"ArialMT-117\"/>\n      <path d=\"M 6.546875 61.375 \nL 6.546875 71.578125 \nL 15.328125 71.578125 \nL 15.328125 61.375 \nz\nM -4.59375 -20.125 \nL -2.9375 -12.640625 \nQ -0.296875 -13.328125 1.21875 -13.328125 \nQ 3.90625 -13.328125 5.21875 -11.546875 \nQ 6.546875 -9.765625 6.546875 -2.640625 \nL 6.546875 51.859375 \nL 15.328125 51.859375 \nL 15.328125 -2.828125 \nQ 15.328125 -12.40625 12.84375 -16.15625 \nQ 9.671875 -21.046875 2.296875 -21.046875 \nQ -1.265625 -21.046875 -4.59375 -20.125 \nz\n\" id=\"ArialMT-106\"/>\n     </defs>\n     <g style=\"fill:#262626;\" transform=\"translate(15.789375 130.921875)rotate(-90)scale(0.12 -0.12)\">\n      <use xlink:href=\"#ArialMT-77\"/>\n      <use x=\"83.300781\" xlink:href=\"#ArialMT-117\"/>\n      <use x=\"138.916016\" xlink:href=\"#ArialMT-106\"/>\n      <use x=\"161.132812\" xlink:href=\"#ArialMT-101\"/>\n      <use x=\"216.748047\" xlink:href=\"#ArialMT-114\"/>\n     </g>\n    </g>\n   </g>\n   <g id=\"line2d_50\">\n    <path clip-path=\"url(#p56dd41812b)\" d=\"M 71.501307 208.460252 \nL 78.74806 206.61025 \nL 85.994813 204.03175 \nL 93.241567 207.619309 \nL 100.48832 200.46973 \nL 107.735073 205.416163 \nL 114.981826 205.280501 \nL 122.22858 214.756364 \nL 129.475333 200.349223 \nL 136.722086 200.774863 \nL 143.968839 166.573793 \nL 151.215593 163.061069 \nL 158.462346 156.725174 \nL 165.709099 161.455009 \nL 172.955852 159.856664 \nL 180.202606 168.224339 \nL 187.449359 160.49571 \nL 194.696112 165.378456 \nL 201.942865 166.515624 \nL 209.189619 168.774579 \nL 216.436372 161.64336 \nL 223.683125 160.484767 \nL 230.929878 156.415078 \nL 238.176631 161.387163 \nL 245.423385 154.796711 \nL 252.670138 152.925263 \nL 259.916891 154.542112 \nL 267.163644 152.139256 \nL 274.410398 142.480282 \nL 281.657151 147.41517 \nL 288.903904 150.428319 \nL 296.150657 155.77991 \nL 303.397411 142.568912 \nL 310.644164 141.92384 \nL 317.890917 141.814339 \nL 325.13767 140.442246 \nL 332.384424 131.394961 \nL 339.631177 127.280091 \nL 346.87793 126.654799 \nL 354.124683 120.484806 \nL 361.371437 94.87516 \nL 368.61819 97.661845 \nL 375.864943 95.160113 \n\" style=\"fill:none;stroke:#4c72b0;stroke-linecap:round;stroke-width:1.5;\"/>\n   </g>\n   <g id=\"line2d_51\">\n    <path clip-path=\"url(#p56dd41812b)\" d=\"M 71.501307 67.333554 \nL 78.74806 66.819517 \nL 85.994813 79.705692 \nL 93.241567 90.054105 \nL 100.48832 82.537048 \nL 107.735073 93.470999 \nL 114.981826 82.443143 \nL 122.22858 100.09211 \nL 129.475333 80.932993 \nL 136.722086 74.265132 \nL 143.968839 104.272517 \nL 151.215593 103.036638 \nL 158.462346 91.319897 \nL 165.709099 101.528308 \nL 172.955852 106.804154 \nL 180.202606 103.333052 \nL 187.449359 98.028067 \nL 194.696112 105.816157 \nL 201.942865 106.883012 \nL 209.189619 107.747319 \nL 216.436372 98.015393 \nL 223.683125 98.2877 \nL 230.929878 94.796014 \nL 238.176631 95.46149 \nL 245.423385 86.245219 \nL 252.670138 86.750732 \nL 259.916891 85.908085 \nL 267.163644 85.121534 \nL 274.410398 79.967209 \nL 281.657151 80.144399 \nL 288.903904 88.785096 \nL 296.150657 86.627136 \nL 303.397411 73.402485 \nL 310.644164 73.922433 \nL 317.890917 75.46851 \nL 325.13767 74.434063 \nL 332.384424 55.685071 \nL 339.631177 54.037302 \nL 346.87793 53.851272 \nL 354.124683 42.118406 \nL 361.371437 17.083636 \nL 368.61819 46.721576 \nL 375.864943 30.885372 \n\" style=\"fill:none;stroke:#dd8452;stroke-linecap:round;stroke-width:1.5;\"/>\n   </g>\n   <g id=\"patch_3\">\n    <path d=\"M 56.283125 224.64 \nL 56.283125 7.2 \n\" style=\"fill:none;stroke:#cccccc;stroke-linecap:square;stroke-linejoin:miter;stroke-width:1.25;\"/>\n   </g>\n   <g id=\"patch_4\">\n    <path d=\"M 391.083125 224.64 \nL 391.083125 7.2 \n\" style=\"fill:none;stroke:#cccccc;stroke-linecap:square;stroke-linejoin:miter;stroke-width:1.25;\"/>\n   </g>\n   <g id=\"patch_5\">\n    <path d=\"M 56.283125 224.64 \nL 391.083125 224.64 \n\" style=\"fill:none;stroke:#cccccc;stroke-linecap:square;stroke-linejoin:miter;stroke-width:1.25;\"/>\n   </g>\n   <g id=\"patch_6\">\n    <path d=\"M 56.283125 7.2 \nL 391.083125 7.2 \n\" style=\"fill:none;stroke:#cccccc;stroke-linecap:square;stroke-linejoin:miter;stroke-width:1.25;\"/>\n   </g>\n  </g>\n </g>\n <defs>\n  <clipPath id=\"p56dd41812b\">\n   <rect height=\"217.44\" width=\"334.8\" x=\"56.283125\" y=\"7.2\"/>\n  </clipPath>\n </defs>\n</svg>\n",
      "image/png": "[encoded data removed]"
     },
     "metadata": {}
    }
   ],
   "source": [
    "sns.set_theme(style = 'whitegrid')\n",
    "ax = sns.lineplot(data = salary, x = 'Trimestre', y = 'Mujer' )\n",
    "ax = sns.lineplot(data = salary, x = 'Trimestre', y = 'Hombre' )"
   ]
  },
  {
   "cell_type": "code",
   "execution_count": 33,
   "metadata": {},
   "outputs": [],
   "source": [
    "#Generate cvs files for prediction model\n",
    "salary_male.to_csv('./Estimations/df_salary_male.csv', index = False)\n",
    "salary_female.to_csv('./Estimations/df_salary_female.csv', index = False)"
   ]
  },
  {
   "cell_type": "code",
   "execution_count": 34,
   "metadata": {},
   "outputs": [],
   "source": [
    "#Make de model prediction . \n",
    "salary_male.columns = ['ds', 'y']\n",
    "salary_female.columns = ['ds', 'y']\n",
    "salary_female['ds'] = pd.to_datetime(salary_female.ds)\n",
    "salary_male['ds'] = pd.to_datetime(salary_male.ds)\n"
   ]
  },
  {
   "cell_type": "code",
   "execution_count": 35,
   "metadata": {},
   "outputs": [
    {
     "output_type": "stream",
     "name": "stderr",
     "text": [
      "INFO:numexpr.utils:NumExpr defaulting to 4 threads.\n",
      "INFO:fbprophet:Disabling daily seasonality. Run prophet with daily_seasonality=True to override this.\n",
      "Periods predicted:  0 \n",
      "\n",
      "{'MAPE': 2.316773971240189, 'MAE': 70.77406697223861}\n",
      "INFO:fbprophet:Disabling daily seasonality. Run prophet with daily_seasonality=True to override this.\n",
      "Periods predicted:  0 \n",
      "\n",
      "{'MAPE': 1.2625377048291908, 'MAE': 54.80194660170251}\n"
     ]
    }
   ],
   "source": [
    "model_female, forecast_female, model_male, forecast_male, gap_national, error_female, error_male = salary_gap([salary_female, salary_male],100)"
   ]
  },
  {
   "cell_type": "code",
   "execution_count": 36,
   "metadata": {},
   "outputs": [
    {
     "output_type": "execute_result",
     "data": {
      "text/plain": [
       "          Date   Salary Male  Salary Female   Wage Gap     Group  \\\n",
       "0   2010-01-01   4441.787791    2460.460907 -44.606518  Nacional   \n",
       "1   2010-04-01   4371.878224    2460.914460 -43.710361  Nacional   \n",
       "2   2010-07-01   4281.326320    2465.432849 -42.414274  Nacional   \n",
       "3   2010-10-01   4210.647091    2435.088034 -42.168318  Nacional   \n",
       "4   2011-01-01   4350.288783    2585.993953 -40.555809  Nacional   \n",
       "..         ...           ...            ...        ...       ...   \n",
       "138 2044-10-01  11254.458795    9598.858737 -14.710615  Nacional   \n",
       "139 2045-01-01  11444.457700    9754.782840 -14.764132  Nacional   \n",
       "140 2045-04-01  11480.549197    9653.464094 -15.914614  Nacional   \n",
       "141 2045-07-01  11389.678350    9733.021453 -14.545247  Nacional   \n",
       "142 2045-10-01  11458.481711    9735.589172 -15.035958  Nacional   \n",
       "\n",
       "     Salary Female Data  Salary Male Data  \n",
       "0           2461.631872       4497.099017  \n",
       "1           2488.314399       4504.512960  \n",
       "2           2525.504047       4318.655958  \n",
       "3           2473.760762       4169.401030  \n",
       "4           2576.878987       4277.819376  \n",
       "..                  ...               ...  \n",
       "138                 NaN               NaN  \n",
       "139                 NaN               NaN  \n",
       "140                 NaN               NaN  \n",
       "141                 NaN               NaN  \n",
       "142                 NaN               NaN  \n",
       "\n",
       "[143 rows x 7 columns]"
      ],
      "text/html": "<div>\n<style scoped>\n    .dataframe tbody tr th:only-of-type {\n        vertical-align: middle;\n    }\n\n    .dataframe tbody tr th {\n        vertical-align: top;\n    }\n\n    .dataframe thead th {\n        text-align: right;\n    }\n</style>\n<table border=\"1\" class=\"dataframe\">\n  <thead>\n    <tr style=\"text-align: right;\">\n      <th></th>\n      <th>Date</th>\n      <th>Salary Male</th>\n      <th>Salary Female</th>\n      <th>Wage Gap</th>\n      <th>Group</th>\n      <th>Salary Female Data</th>\n      <th>Salary Male Data</th>\n    </tr>\n  </thead>\n  <tbody>\n    <tr>\n      <th>0</th>\n      <td>2010-01-01</td>\n      <td>4441.787791</td>\n      <td>2460.460907</td>\n      <td>-44.606518</td>\n      <td>Nacional</td>\n      <td>2461.631872</td>\n      <td>4497.099017</td>\n    </tr>\n    <tr>\n      <th>1</th>\n      <td>2010-04-01</td>\n      <td>4371.878224</td>\n      <td>2460.914460</td>\n      <td>-43.710361</td>\n      <td>Nacional</td>\n      <td>2488.314399</td>\n      <td>4504.512960</td>\n    </tr>\n    <tr>\n      <th>2</th>\n      <td>2010-07-01</td>\n      <td>4281.326320</td>\n      <td>2465.432849</td>\n      <td>-42.414274</td>\n      <td>Nacional</td>\n      <td>2525.504047</td>\n      <td>4318.655958</td>\n    </tr>\n    <tr>\n      <th>3</th>\n      <td>2010-10-01</td>\n      <td>4210.647091</td>\n      <td>2435.088034</td>\n      <td>-42.168318</td>\n      <td>Nacional</td>\n      <td>2473.760762</td>\n      <td>4169.401030</td>\n    </tr>\n    <tr>\n      <th>4</th>\n      <td>2011-01-01</td>\n      <td>4350.288783</td>\n      <td>2585.993953</td>\n      <td>-40.555809</td>\n      <td>Nacional</td>\n      <td>2576.878987</td>\n      <td>4277.819376</td>\n    </tr>\n    <tr>\n      <th>...</th>\n      <td>...</td>\n      <td>...</td>\n      <td>...</td>\n      <td>...</td>\n      <td>...</td>\n      <td>...</td>\n      <td>...</td>\n    </tr>\n    <tr>\n      <th>138</th>\n      <td>2044-10-01</td>\n      <td>11254.458795</td>\n      <td>9598.858737</td>\n      <td>-14.710615</td>\n      <td>Nacional</td>\n      <td>NaN</td>\n      <td>NaN</td>\n    </tr>\n    <tr>\n      <th>139</th>\n      <td>2045-01-01</td>\n      <td>11444.457700</td>\n      <td>9754.782840</td>\n      <td>-14.764132</td>\n      <td>Nacional</td>\n      <td>NaN</td>\n      <td>NaN</td>\n    </tr>\n    <tr>\n      <th>140</th>\n      <td>2045-04-01</td>\n      <td>11480.549197</td>\n      <td>9653.464094</td>\n      <td>-15.914614</td>\n      <td>Nacional</td>\n      <td>NaN</td>\n      <td>NaN</td>\n    </tr>\n    <tr>\n      <th>141</th>\n      <td>2045-07-01</td>\n      <td>11389.678350</td>\n      <td>9733.021453</td>\n      <td>-14.545247</td>\n      <td>Nacional</td>\n      <td>NaN</td>\n      <td>NaN</td>\n    </tr>\n    <tr>\n      <th>142</th>\n      <td>2045-10-01</td>\n      <td>11458.481711</td>\n      <td>9735.589172</td>\n      <td>-15.035958</td>\n      <td>Nacional</td>\n      <td>NaN</td>\n      <td>NaN</td>\n    </tr>\n  </tbody>\n</table>\n<p>143 rows × 7 columns</p>\n</div>"
     },
     "metadata": {},
     "execution_count": 36
    }
   ],
   "source": [
    "gap_national['Group']= 'Nacional'\n",
    "gap_national['Salary Female Data'] = salary_female.y\n",
    "gap_national['Salary Male Data'] = salary_male.y\n",
    "gap_national"
   ]
  },
  {
   "cell_type": "code",
   "execution_count": 37,
   "metadata": {},
   "outputs": [],
   "source": [
    "error_national = { 'MAPE': [error_female['MAPE'],error_male['MAPE']], 'MAE': [error_female['MAE'],error_male['MAE']], 'Group':['National','National'], 'Gender':['Mujer','Hombre'] }\n",
    "error_national = pd.DataFrame(error_national)"
   ]
  },
  {
   "cell_type": "markdown",
   "metadata": {},
   "source": [
    "## Model prediction with FBProphet"
   ]
  },
  {
   "cell_type": "markdown",
   "metadata": {},
   "source": [
    "## Data frame creation for calculation of wage gap for different ocupation groups\n"
   ]
  },
  {
   "cell_type": "code",
   "execution_count": 38,
   "metadata": {},
   "outputs": [
    {
     "output_type": "execute_result",
     "data": {
      "text/plain": [
       "array(['Directores y Gerentes de Ventas, Restaurantes, Hoteles y otros Establecimientos',\n",
       "       'Comerciantes en Establecimientos',\n",
       "       'Trabajadores en Cuidados Personales y del Hogar',\n",
       "       'Trabajadores de las Fuerzas Armadas',\n",
       "       'Trabajadores en Actividades Pesqueras, Forestales, Caza y Similares',\n",
       "       'Trabajadores en la Extracción y la Edificación de Construcciones',\n",
       "       'Artesanos y Trabajadores en el Tratamiento y Elaboración de Productos de Metal',\n",
       "       'Operadores de Instalaciones y Maquinaria Industrial',\n",
       "       'Conductores de Transporte y de Maquinaria Móvil',\n",
       "       'Directores y Gerentes en Servicios Financieros, Administrativos y Sociales',\n",
       "       'Especialistas en Ciencias Económico-Administrativas, Ciencias Sociales, Humanistas y en Artes',\n",
       "       'Trabajadores en la Preparación y Servicio de Alimentos y Bebidas en Establecimientos',\n",
       "       'Trabajadores en Servicios de Protección y Vigilancia',\n",
       "       'Trabajadores en Actividades Agrícolas y Ganaderas',\n",
       "       'Ensambladores y Montadores de Herramientas, Maquinaria, Productos Metálicos y Electrónicos',\n",
       "       'Funcionarios y Altas Autoridades de los Sectores Público, Privado y Social',\n",
       "       'Ocupaciones no Especificadas',\n",
       "       'Directores y Gerentes en Producción, Tecnología y Transporte',\n",
       "       'Coordinadores y Jefes de Área de Ventas, Restaurantes, Hoteles y otros Establecimientos',\n",
       "       'Auxiliares y Técnicos en Ciencias Económico-Administrativas, Ciencias Sociales, Humanistas y en Artes',\n",
       "       'Auxiliares y Técnicos en Ciencias Exactas, Biológicas, Ingeniería, Informática y en Telecomunicaciones',\n",
       "       'Enfermeras, Técnicos en Medicina y Trabajadores de Apoyo en Salud',\n",
       "       'Secretarias, Capturistas, Cajeros y Trabajadores de Control de Archivo y Transporte',\n",
       "       'Empleados de Ventas en Establecimientos',\n",
       "       'Trabajadores en el Alquiler',\n",
       "       'Operadores de Maquinaria Agropecuaria y Forestal',\n",
       "       'Otros Trabajadores en Actividades Agrícolas, Ganaderas, Forestales, Caza y Pesca, no Clasificados Anteriormente',\n",
       "       'Artesanos y Trabajadores en la Elaboración de Productos de Madera, Papel, Textiles y de Cuero y Piel',\n",
       "       'Artesanos y Trabajadores en la Elaboración de Productos de Hule, Caucho, Plásticos y de Sustancias Químicas',\n",
       "       'Trabajadores en la Elaboración y Procesamiento de Alimentos, Bebidas y Productos de Tabaco',\n",
       "       'Artesanos y Trabajadores en la Elaboración de Productos de Cerámica, Vidrio, Azulejo y Similares',\n",
       "       'Otros Trabajadores Artesanales, no Clasificados Anteriormente',\n",
       "       'Trabajadores de Apoyo en Actividades Agropecuarias, Forestales, Pesca y Caza',\n",
       "       'Trabajadores de Apoyo en la Minería, Construcción e Industria',\n",
       "       'Ayudantes de Conductores de Transporte, Conductores de Transporte de Tracción Humana y Animal y Cargadores',\n",
       "       'Ayudantes en la Preparación de Alimentos',\n",
       "       'Vendedores Ambulantes',\n",
       "       'Trabajadores Domésticos, de Limpieza, Planchadores y otros Trabajadores de Limpieza',\n",
       "       'Trabajadores de Paquetería, de Apoyo para Espectáculos y Repartidores de Mercancías',\n",
       "       'Coordinadores y Jefes de Área en Servicios Financieros, Administrativos y Sociales',\n",
       "       'Otros Operadores de Maquinaria Industrial, Ensambladores y Conductores de Transporte, no Clasificados Anteriormente',\n",
       "       'Coordinadores y Jefes de Área en Producción y Tecnología',\n",
       "       'Otros Directores, Funcionarios, Gerentes, Coordinadores y Jefes de Área, no Clasificados',\n",
       "       'Auxiliares y Técnicos en Educación, Instructores y Capacitadores',\n",
       "       'Trabajadores que Brindan y Manejan Información',\n",
       "       'Otros Comerciantes, Empleados en Ventas y Agentes de Ventas en Establecimientos, no Clasificados',\n",
       "       'Otros Trabajadores en Actividades Elementales y de Apoyo, no Clasificados Anteriormente',\n",
       "       'Profesores y Especialistas en Docencia',\n",
       "       'Otros Especialistas y Técnicos, no Clasificados Anteriormente',\n",
       "       'Otras Secretarias, Capturistas, Cajeros y Trabajadores que Brindan Información, no Clasificados Anteriormente',\n",
       "       'Otras Ocupaciones en Servicios Personales y Vigilancia, no Clasificadas Anteriormente',\n",
       "       'Médicos, Enfermeras y otros Especialistas en Salud',\n",
       "       'Investigadores y Especialistas en Ciencias Exactas, Biológicas, Ingeniería, Informática y en Telecomunicaciones'],\n",
       "      dtype=object)"
      ]
     },
     "metadata": {},
     "execution_count": 38
    }
   ],
   "source": [
    "enoe_salary.Group.unique()"
   ]
  },
  {
   "cell_type": "code",
   "execution_count": 39,
   "metadata": {},
   "outputs": [],
   "source": [
    "# Top 5 occupations of women in Mexico with mayor workforce in 2020 Q4, based on Power BI visualization\n",
    "top5_groups = ['Empleados de Ventas en Establecimientos', 'Trabajadores Domésticos, de Limpieza, Planchadores y otros Trabajadores de Limpieza', 'Secretarias, Capturistas, Cajeros y Trabajadores de Control de Archivo y Transporte', 'Comerciantes en Establecimientos', 'Trabajadores en la Preparación y Servicio de Alimentos y Bebidas en Establecimientos' ]\n",
    "top5_titulo = ['ventas','limpieza','secretariado','comercio','alimentos']"
   ]
  },
  {
   "cell_type": "code",
   "execution_count": 40,
   "metadata": {},
   "outputs": [],
   "source": [
    "# Generate dataframe with female and male salary for each ocupation group in the top 5. \n",
    "tablas_salary = dict()\n",
    "for i, group in enumerate(top5_groups) :\n",
    "    sector = enoe_salary[enoe_salary.Group == group]\n",
    "    sector_female = sector[sector['Sex'] == 'Mujer'].groupby('Quarter')['Monthly Wage'].agg(weighted_average).to_frame().reset_index()\n",
    "    sector_female.columns = ['ds','y']\n",
    "    sector_male = sector[sector['Sex'] == 'Hombre'].groupby('Quarter')['Monthly Wage'].agg(weighted_average).to_frame().reset_index()\n",
    "    sector_male.columns = ['ds','y']\n",
    "    sector_female['ds'] = pd.to_datetime(sector_female.ds)\n",
    "    sector_male['ds'] = pd.to_datetime(sector_male.ds)\n",
    "    tablas_salary[top5_titulo[i]] = [sector_female, sector_male]\n",
    "    "
   ]
  },
  {
   "cell_type": "code",
   "execution_count": null,
   "metadata": {},
   "outputs": [],
   "source": [
    "tablas_salary['ventas'][1]"
   ]
  },
  {
   "cell_type": "code",
   "execution_count": 41,
   "metadata": {},
   "outputs": [
    {
     "output_type": "stream",
     "name": "stderr",
     "text": [
      "INFO:fbprophet:Disabling daily seasonality. Run prophet with daily_seasonality=True to override this.\n",
      "Periods predicted:  0 \n",
      "\n",
      "{'MAPE': 1.4643329124382276, 'MAE': 35.2350018926081}\n",
      "INFO:fbprophet:Disabling daily seasonality. Run prophet with daily_seasonality=True to override this.\n",
      "Periods predicted:  0 \n",
      "\n",
      "{'MAPE': 2.06294588894142, 'MAE': 77.7695469152288}\n",
      "INFO:fbprophet:Disabling daily seasonality. Run prophet with daily_seasonality=True to override this.\n",
      "Periods predicted:  0 \n",
      "\n",
      "{'MAPE': 0.8162456280024276, 'MAE': 22.735407287445263}\n",
      "INFO:fbprophet:Disabling daily seasonality. Run prophet with daily_seasonality=True to override this.\n",
      "Periods predicted:  0 \n",
      "\n",
      "{'MAPE': 1.4295621166095882, 'MAE': 50.93197776403811}\n",
      "INFO:fbprophet:Disabling daily seasonality. Run prophet with daily_seasonality=True to override this.\n",
      "Periods predicted:  0 \n",
      "\n",
      "{'MAPE': 1.6693620047295192, 'MAE': 68.1585536868176}\n",
      "INFO:fbprophet:Disabling daily seasonality. Run prophet with daily_seasonality=True to override this.\n",
      "Periods predicted:  0 \n",
      "\n",
      "{'MAPE': 2.0748770672801595, 'MAE': 92.39701701050613}\n",
      "INFO:fbprophet:Disabling daily seasonality. Run prophet with daily_seasonality=True to override this.\n",
      "Periods predicted:  0 \n",
      "\n",
      "{'MAPE': 19.758461289986723, 'MAE': 303.9901128469707}\n",
      "INFO:fbprophet:Disabling daily seasonality. Run prophet with daily_seasonality=True to override this.\n",
      "Periods predicted:  0 \n",
      "\n",
      "{'MAPE': 7.628521231879206, 'MAE': 283.39031289844763}\n",
      "INFO:fbprophet:Disabling daily seasonality. Run prophet with daily_seasonality=True to override this.\n",
      "Periods predicted:  0 \n",
      "\n",
      "{'MAPE': 19.21256112436924, 'MAE': 708.4592835258176}\n",
      "INFO:fbprophet:Disabling daily seasonality. Run prophet with daily_seasonality=True to override this.\n",
      "Periods predicted:  0 \n",
      "\n",
      "{'MAPE': 16.990157333850785, 'MAE': 842.1712258173208}\n"
     ]
    }
   ],
   "source": [
    "## Apply FB Prophet model to each data frame and compare the result. Save the prediction results in general table\n",
    "#top5_titulo = ['ventas','limpieza','secretariado','comercio','alimentos']\n",
    "prediction_points = [100,100,100,100, 100]\n",
    "gap_group = pd.DataFrame( )\n",
    "error_prediction = pd.DataFrame()\n",
    "for i, group in enumerate(top5_titulo) :\n",
    "    model_female, forecast_female, model_male, forecast_male, gap, error_female, error_male = salary_gap([tablas_salary[group][0], tablas_salary[group][1]],prediction_points[i])\n",
    "    gap['Group']= top5_groups[i]\n",
    "    gap['Salary Female Data'] = tablas_salary[group][0].y\n",
    "    gap['Salary Male Data'] = tablas_salary[group][1].y\n",
    "    gap_group = pd.concat([gap_group,gap])\n",
    "    error_dict = { 'MAPE': [error_female['MAPE'],error_male['MAPE']], 'MAE': [error_female['MAE'],error_male['MAE']], 'Group':[top5_groups[i],top5_groups[i]], 'Gender':['Mujer','Hombre'] }\n",
    "    error_model = pd.DataFrame(error_dict)\n",
    "    error_prediction = pd.concat([ error_prediction , error_model])\n",
    "    "
   ]
  },
  {
   "cell_type": "code",
   "execution_count": 42,
   "metadata": {},
   "outputs": [],
   "source": [
    "error_prediction = pd.concat([error_national,error_prediction])"
   ]
  },
  {
   "cell_type": "code",
   "execution_count": 43,
   "metadata": {},
   "outputs": [
    {
     "output_type": "execute_result",
     "data": {
      "text/plain": [
       "        MAPE         MAE                                              Group  \\\n",
       "0   2.316774   70.774067                                           National   \n",
       "1   1.262538   54.801947                                           National   \n",
       "0   1.464333   35.235002            Empleados de Ventas en Establecimientos   \n",
       "1   2.062946   77.769547            Empleados de Ventas en Establecimientos   \n",
       "0   0.816246   22.735407  Trabajadores Domésticos, de Limpieza, Planchad...   \n",
       "1   1.429562   50.931978  Trabajadores Domésticos, de Limpieza, Planchad...   \n",
       "0   1.669362   68.158554  Secretarias, Capturistas, Cajeros y Trabajador...   \n",
       "1   2.074877   92.397017  Secretarias, Capturistas, Cajeros y Trabajador...   \n",
       "0  19.758461  303.990113                   Comerciantes en Establecimientos   \n",
       "1   7.628521  283.390313                   Comerciantes en Establecimientos   \n",
       "0  19.212561  708.459284  Trabajadores en la Preparación y Servicio de A...   \n",
       "1  16.990157  842.171226  Trabajadores en la Preparación y Servicio de A...   \n",
       "\n",
       "   Gender  \n",
       "0   Mujer  \n",
       "1  Hombre  \n",
       "0   Mujer  \n",
       "1  Hombre  \n",
       "0   Mujer  \n",
       "1  Hombre  \n",
       "0   Mujer  \n",
       "1  Hombre  \n",
       "0   Mujer  \n",
       "1  Hombre  \n",
       "0   Mujer  \n",
       "1  Hombre  "
      ],
      "text/html": "<div>\n<style scoped>\n    .dataframe tbody tr th:only-of-type {\n        vertical-align: middle;\n    }\n\n    .dataframe tbody tr th {\n        vertical-align: top;\n    }\n\n    .dataframe thead th {\n        text-align: right;\n    }\n</style>\n<table border=\"1\" class=\"dataframe\">\n  <thead>\n    <tr style=\"text-align: right;\">\n      <th></th>\n      <th>MAPE</th>\n      <th>MAE</th>\n      <th>Group</th>\n      <th>Gender</th>\n    </tr>\n  </thead>\n  <tbody>\n    <tr>\n      <th>0</th>\n      <td>2.316774</td>\n      <td>70.774067</td>\n      <td>National</td>\n      <td>Mujer</td>\n    </tr>\n    <tr>\n      <th>1</th>\n      <td>1.262538</td>\n      <td>54.801947</td>\n      <td>National</td>\n      <td>Hombre</td>\n    </tr>\n    <tr>\n      <th>0</th>\n      <td>1.464333</td>\n      <td>35.235002</td>\n      <td>Empleados de Ventas en Establecimientos</td>\n      <td>Mujer</td>\n    </tr>\n    <tr>\n      <th>1</th>\n      <td>2.062946</td>\n      <td>77.769547</td>\n      <td>Empleados de Ventas en Establecimientos</td>\n      <td>Hombre</td>\n    </tr>\n    <tr>\n      <th>0</th>\n      <td>0.816246</td>\n      <td>22.735407</td>\n      <td>Trabajadores Domésticos, de Limpieza, Planchad...</td>\n      <td>Mujer</td>\n    </tr>\n    <tr>\n      <th>1</th>\n      <td>1.429562</td>\n      <td>50.931978</td>\n      <td>Trabajadores Domésticos, de Limpieza, Planchad...</td>\n      <td>Hombre</td>\n    </tr>\n    <tr>\n      <th>0</th>\n      <td>1.669362</td>\n      <td>68.158554</td>\n      <td>Secretarias, Capturistas, Cajeros y Trabajador...</td>\n      <td>Mujer</td>\n    </tr>\n    <tr>\n      <th>1</th>\n      <td>2.074877</td>\n      <td>92.397017</td>\n      <td>Secretarias, Capturistas, Cajeros y Trabajador...</td>\n      <td>Hombre</td>\n    </tr>\n    <tr>\n      <th>0</th>\n      <td>19.758461</td>\n      <td>303.990113</td>\n      <td>Comerciantes en Establecimientos</td>\n      <td>Mujer</td>\n    </tr>\n    <tr>\n      <th>1</th>\n      <td>7.628521</td>\n      <td>283.390313</td>\n      <td>Comerciantes en Establecimientos</td>\n      <td>Hombre</td>\n    </tr>\n    <tr>\n      <th>0</th>\n      <td>19.212561</td>\n      <td>708.459284</td>\n      <td>Trabajadores en la Preparación y Servicio de A...</td>\n      <td>Mujer</td>\n    </tr>\n    <tr>\n      <th>1</th>\n      <td>16.990157</td>\n      <td>842.171226</td>\n      <td>Trabajadores en la Preparación y Servicio de A...</td>\n      <td>Hombre</td>\n    </tr>\n  </tbody>\n</table>\n</div>"
     },
     "metadata": {},
     "execution_count": 43
    }
   ],
   "source": [
    "#Print the MAPE and MAE ofr the prediction FB Model.\n",
    "error_prediction"
   ]
  },
  {
   "cell_type": "code",
   "execution_count": 44,
   "metadata": {},
   "outputs": [],
   "source": [
    "gap_group = pd.concat([gap_national,gap_group])"
   ]
  },
  {
   "cell_type": "code",
   "execution_count": 45,
   "metadata": {},
   "outputs": [],
   "source": [
    "top5_groups_error = ['Empleados de Ventas en Establecimientos', 'Trabajadores Domésticos, de Limpieza, Planchadores y otros Trabajadores de Limpieza', 'Secretarias, Capturistas, Cajeros y Trabajadores de Control de Archivo y Transporte']\n",
    "top5_titulo_error = ['ventas','limpieza','secretariado']"
   ]
  },
  {
   "cell_type": "code",
   "execution_count": 46,
   "metadata": {},
   "outputs": [
    {
     "output_type": "stream",
     "name": "stderr",
     "text": [
      "INFO:fbprophet:Disabling daily seasonality. Run prophet with daily_seasonality=True to override this.\n",
      "Periods predicted:  0 \n",
      "\n",
      "{'MAPE': 1.4643329124382276, 'MAE': 35.2350018926081}\n",
      "INFO:fbprophet:Disabling daily seasonality. Run prophet with daily_seasonality=True to override this.\n",
      "Periods predicted:  0 \n",
      "\n",
      "{'MAPE': 2.06294588894142, 'MAE': 77.7695469152288}\n",
      "INFO:fbprophet:Disabling daily seasonality. Run prophet with daily_seasonality=True to override this.\n",
      "Periods predicted:  0 \n",
      "\n",
      "{'MAPE': 0.8162456280024276, 'MAE': 22.735407287445263}\n",
      "INFO:fbprophet:Disabling daily seasonality. Run prophet with daily_seasonality=True to override this.\n",
      "Periods predicted:  0 \n",
      "\n",
      "{'MAPE': 1.4295621166095882, 'MAE': 50.93197776403811}\n",
      "INFO:fbprophet:Disabling daily seasonality. Run prophet with daily_seasonality=True to override this.\n",
      "Periods predicted:  0 \n",
      "\n",
      "{'MAPE': 1.6693620047295192, 'MAE': 68.1585536868176}\n",
      "INFO:fbprophet:Disabling daily seasonality. Run prophet with daily_seasonality=True to override this.\n",
      "Periods predicted:  0 \n",
      "\n",
      "{'MAPE': 2.0748770672801595, 'MAE': 92.39701701050613}\n"
     ]
    }
   ],
   "source": [
    "#Repeat the estimation for the selected groups\n",
    "prediction_points = [120,100,20]\n",
    "gap_group = pd.DataFrame( )\n",
    "error_prediction = pd.DataFrame()\n",
    "for i, group in enumerate(top5_titulo_error) :\n",
    "    model_female, forecast_female, model_male, forecast_male, gap, error_female, error_male = salary_gap([tablas_salary[group][0], tablas_salary[group][1]],prediction_points[i])\n",
    "    gap['Group']= top5_groups_error[i]\n",
    "    gap['Salary Female Data'] = tablas_salary[group][0].y\n",
    "    gap['Salary Male Data'] = tablas_salary[group][1].y\n",
    "    gap_group = pd.concat([gap_group,gap])\n",
    "    error_dict = { 'MAPE': [error_female['MAPE'],error_male['MAPE']], 'MAE': [error_female['MAE'],error_male['MAE']], 'Group':[top5_groups_error[i],top5_groups_error[i]], 'Gender':['Mujer','Hombre'] }\n",
    "    error_model = pd.DataFrame(error_dict)\n",
    "    error_prediction = pd.concat([ error_prediction , error_model])"
   ]
  },
  {
   "cell_type": "code",
   "execution_count": 47,
   "metadata": {},
   "outputs": [],
   "source": [
    "error_prediction2 = pd.concat([error_national,error_prediction])"
   ]
  },
  {
   "cell_type": "code",
   "execution_count": 48,
   "metadata": {},
   "outputs": [
    {
     "output_type": "execute_result",
     "data": {
      "text/plain": [
       "       MAPE        MAE                                              Group  \\\n",
       "0  2.316774  70.774067                                           National   \n",
       "1  1.262538  54.801947                                           National   \n",
       "0  1.464333  35.235002            Empleados de Ventas en Establecimientos   \n",
       "1  2.062946  77.769547            Empleados de Ventas en Establecimientos   \n",
       "0  0.816246  22.735407  Trabajadores Domésticos, de Limpieza, Planchad...   \n",
       "1  1.429562  50.931978  Trabajadores Domésticos, de Limpieza, Planchad...   \n",
       "0  1.669362  68.158554  Secretarias, Capturistas, Cajeros y Trabajador...   \n",
       "1  2.074877  92.397017  Secretarias, Capturistas, Cajeros y Trabajador...   \n",
       "\n",
       "   Gender  \n",
       "0   Mujer  \n",
       "1  Hombre  \n",
       "0   Mujer  \n",
       "1  Hombre  \n",
       "0   Mujer  \n",
       "1  Hombre  \n",
       "0   Mujer  \n",
       "1  Hombre  "
      ],
      "text/html": "<div>\n<style scoped>\n    .dataframe tbody tr th:only-of-type {\n        vertical-align: middle;\n    }\n\n    .dataframe tbody tr th {\n        vertical-align: top;\n    }\n\n    .dataframe thead th {\n        text-align: right;\n    }\n</style>\n<table border=\"1\" class=\"dataframe\">\n  <thead>\n    <tr style=\"text-align: right;\">\n      <th></th>\n      <th>MAPE</th>\n      <th>MAE</th>\n      <th>Group</th>\n      <th>Gender</th>\n    </tr>\n  </thead>\n  <tbody>\n    <tr>\n      <th>0</th>\n      <td>2.316774</td>\n      <td>70.774067</td>\n      <td>National</td>\n      <td>Mujer</td>\n    </tr>\n    <tr>\n      <th>1</th>\n      <td>1.262538</td>\n      <td>54.801947</td>\n      <td>National</td>\n      <td>Hombre</td>\n    </tr>\n    <tr>\n      <th>0</th>\n      <td>1.464333</td>\n      <td>35.235002</td>\n      <td>Empleados de Ventas en Establecimientos</td>\n      <td>Mujer</td>\n    </tr>\n    <tr>\n      <th>1</th>\n      <td>2.062946</td>\n      <td>77.769547</td>\n      <td>Empleados de Ventas en Establecimientos</td>\n      <td>Hombre</td>\n    </tr>\n    <tr>\n      <th>0</th>\n      <td>0.816246</td>\n      <td>22.735407</td>\n      <td>Trabajadores Domésticos, de Limpieza, Planchad...</td>\n      <td>Mujer</td>\n    </tr>\n    <tr>\n      <th>1</th>\n      <td>1.429562</td>\n      <td>50.931978</td>\n      <td>Trabajadores Domésticos, de Limpieza, Planchad...</td>\n      <td>Hombre</td>\n    </tr>\n    <tr>\n      <th>0</th>\n      <td>1.669362</td>\n      <td>68.158554</td>\n      <td>Secretarias, Capturistas, Cajeros y Trabajador...</td>\n      <td>Mujer</td>\n    </tr>\n    <tr>\n      <th>1</th>\n      <td>2.074877</td>\n      <td>92.397017</td>\n      <td>Secretarias, Capturistas, Cajeros y Trabajador...</td>\n      <td>Hombre</td>\n    </tr>\n  </tbody>\n</table>\n</div>"
     },
     "metadata": {},
     "execution_count": 48
    }
   ],
   "source": [
    "error_prediction2"
   ]
  },
  {
   "cell_type": "code",
   "execution_count": 49,
   "metadata": {},
   "outputs": [],
   "source": [
    "gap_group_final = pd.concat([gap_national,gap_group])"
   ]
  },
  {
   "cell_type": "code",
   "execution_count": 50,
   "metadata": {},
   "outputs": [
    {
     "output_type": "execute_result",
     "data": {
      "text/plain": [
       "array(['Nacional', 'Empleados de Ventas en Establecimientos',\n",
       "       'Trabajadores Domésticos, de Limpieza, Planchadores y otros Trabajadores de Limpieza',\n",
       "       'Secretarias, Capturistas, Cajeros y Trabajadores de Control de Archivo y Transporte'],\n",
       "      dtype=object)"
      ]
     },
     "metadata": {},
     "execution_count": 50
    }
   ],
   "source": [
    "gap_group_final.Group.unique()"
   ]
  },
  {
   "cell_type": "code",
   "execution_count": 51,
   "metadata": {},
   "outputs": [],
   "source": [
    "#Create csv file for estimation visualization in Power Bi Dashboard\n",
    "gap_group_final.to_csv('./DataBaseBI/salary_gap_group.csv',index=False)"
   ]
  },
  {
   "cell_type": "code",
   "execution_count": null,
   "metadata": {},
   "outputs": [],
   "source": []
  },
  {
   "cell_type": "code",
   "execution_count": null,
   "metadata": {},
   "outputs": [],
   "source": []
  },
  {
   "cell_type": "markdown",
   "metadata": {},
   "source": [
    "## Sources"
   ]
  },
  {
   "cell_type": "markdown",
   "metadata": {},
   "source": [
    "https://www.youtube.com/watch?v=eq7_3HA7QQI"
   ]
  },
  {
   "cell_type": "markdown",
   "metadata": {},
   "source": [
    "https://facebook.github.io/prophet/docs/diagnostics.html"
   ]
  },
  {
   "cell_type": "markdown",
   "metadata": {},
   "source": [
    "https://digitaltesseract.com/facebook-prophet-to-forecast-minimum-temperature/"
   ]
  }
 ],
 "metadata": {
  "kernelspec": {
   "display_name": "Python 3",
   "language": "python",
   "name": "python3"
  },
  "language_info": {
   "codemirror_mode": {
    "name": "ipython",
    "version": 3
   },
   "file_extension": ".py",
   "mimetype": "text/x-python",
   "name": "python",
   "nbconvert_exporter": "python",
   "pygments_lexer": "ipython3",
   "version": "3.7.6-final"
  }
 },
 "nbformat": 4,
 "nbformat_minor": 2
}